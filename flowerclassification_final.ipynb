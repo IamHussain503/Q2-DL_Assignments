{
 "cells": [
  {
   "cell_type": "code",
   "execution_count": 1,
   "metadata": {
    "id": "MHeMvFpkR-Oe"
   },
   "outputs": [
    {
     "name": "stdout",
     "output_type": "stream",
     "text": [
      "INFO:tensorflow:Enabling eager execution\n",
      "INFO:tensorflow:Enabling v2 tensorshape\n",
      "INFO:tensorflow:Enabling resource variables\n",
      "INFO:tensorflow:Enabling tensor equality\n",
      "INFO:tensorflow:Enabling control flow v2\n"
     ]
    }
   ],
   "source": [
    "import numpy as np\n",
    "import pandas as pd\n",
    "import tensorflow as tf\n",
    "from tensorflow.keras import models\n",
    "from tensorflow.keras import layers\n",
    "from tensorflow.keras.preprocessing.image import ImageDataGenerator\n",
    "from tensorflow.keras.models import Sequential\n",
    "from tensorflow.keras.layers import Dense, Flatten\n",
    "from tensorflow.keras.optimizers import RMSprop\n"
   ]
  },
  {
   "cell_type": "code",
   "execution_count": 13,
   "metadata": {
    "colab": {
     "base_uri": "https://localhost:8080/"
    },
    "id": "gu8R1NyOv9Gv",
    "outputId": "2012785e-c9d0-470f-8721-f3cd0e984991"
   },
   "outputs": [
    {
     "name": "stdout",
     "output_type": "stream",
     "text": [
      "Found 3028 images belonging to 5 classes.\n",
      "Found 1295 images belonging to 5 classes.\n"
     ]
    }
   ],
   "source": [
    "val_batch = 10\n",
    "train_batch = 32\n",
    "train_datagen = ImageDataGenerator(\n",
    "        rescale=1./255,\n",
    "        validation_split=0.30,\n",
    "        )\n",
    "train_generator = train_datagen.flow_from_directory(\n",
    "        './data',\n",
    "        target_size=(80, 80),\n",
    "        batch_size=train_batch,\n",
    "        class_mode='categorical',\n",
    "        subset = 'training',\n",
    "        color_mode = 'grayscale',\n",
    "        shuffle = True,\n",
    "        )\n",
    "validation_generator = train_datagen.flow_from_directory(\n",
    "        './data',\n",
    "        target_size=(80, 80),\n",
    "        batch_size=val_batch,\n",
    "        class_mode='categorical',\n",
    "        subset = 'validation',\n",
    "        color_mode = 'grayscale',\n",
    "        shuffle= True)\n"
   ]
  },
  {
   "cell_type": "code",
   "execution_count": 11,
   "metadata": {
    "colab": {
     "base_uri": "https://localhost:8080/"
    },
    "id": "RR13ZEf7-zus",
    "outputId": "2f6845c0-9df3-43ca-f72b-fda785cc3f7d"
   },
   "outputs": [
    {
     "data": {
      "text/plain": [
       "{'daisy': 0, 'dandelion': 1, 'rose': 2, 'sunflower': 3, 'tulip': 4}"
      ]
     },
     "execution_count": 11,
     "metadata": {},
     "output_type": "execute_result"
    }
   ],
   "source": [
    "train_generator.class_indices"
   ]
  },
  {
   "cell_type": "code",
   "execution_count": 4,
   "metadata": {
    "colab": {
     "base_uri": "https://localhost:8080/"
    },
    "id": "LqDb5wQt9NSe",
    "outputId": "018c928c-f59e-472d-91af-d1feceff2d3e"
   },
   "outputs": [
    {
     "data": {
      "text/plain": [
       "tensorflow.python.keras.preprocessing.image.ImageDataGenerator"
      ]
     },
     "execution_count": 4,
     "metadata": {},
     "output_type": "execute_result"
    }
   ],
   "source": [
    "type(train_datagen)"
   ]
  },
  {
   "cell_type": "code",
   "execution_count": 5,
   "metadata": {},
   "outputs": [
    {
     "data": {
      "text/plain": [
       "tensorflow.python.keras.preprocessing.image.DirectoryIterator"
      ]
     },
     "execution_count": 5,
     "metadata": {},
     "output_type": "execute_result"
    }
   ],
   "source": [
    "type(train_generator)"
   ]
  },
  {
   "cell_type": "code",
   "execution_count": 14,
   "metadata": {
    "colab": {
     "base_uri": "https://localhost:8080/"
    },
    "id": "I0JAwzvh9blZ",
    "outputId": "dfcf9483-63c5-4b2a-a8b1-f196f21ad185"
   },
   "outputs": [
    {
     "data": {
      "text/plain": [
       "(32, 5)"
      ]
     },
     "execution_count": 14,
     "metadata": {},
     "output_type": "execute_result"
    }
   ],
   "source": [
    "train_generator[31][1].shape"
   ]
  },
  {
   "cell_type": "code",
   "execution_count": 23,
   "metadata": {
    "id": "MECEactbpYY2"
   },
   "outputs": [],
   "source": [
    "from tensorflow.keras.models import Sequential\n",
    "from tensorflow.keras.layers import Dense, Dropout,Flatten\n",
    "model = Sequential()\n",
    "model.add(Flatten())\n",
    "model.add(Dense(10, activation='relu'))\n",
    "model.add(Dense(8, activation='relu'))\n",
    "model.add(Dense(5,  activation='softmax'))"
   ]
  },
  {
   "cell_type": "code",
   "execution_count": 24,
   "metadata": {
    "id": "2QFL7tA4D0Sa"
   },
   "outputs": [],
   "source": [
    "model.compile(optimizer='rmsprop',\n",
    "loss='categorical_crossentropy',\n",
    "metrics=['accuracy'])"
   ]
  },
  {
   "cell_type": "code",
   "execution_count": 26,
   "metadata": {
    "id": "kBJbtQp1fhfx"
   },
   "outputs": [],
   "source": [
    "# %tensorflow_version 2.x\n",
    "import tensorflow as tf"
   ]
  },
  {
   "cell_type": "code",
   "execution_count": 27,
   "metadata": {
    "colab": {
     "base_uri": "https://localhost:8080/"
    },
    "id": "mwG7_qctxUBl",
    "outputId": "a657cddc-ae3a-4e12-bd0e-8bf0f672af9e"
   },
   "outputs": [
    {
     "name": "stdout",
     "output_type": "stream",
     "text": [
      "Epoch 1/20\n",
      "20/20 [==============================] - 6s 253ms/step - loss: 1.9444 - accuracy: 0.2400 - val_loss: 1.5715 - val_accuracy: 0.2355\n",
      "Epoch 2/20\n",
      "20/20 [==============================] - 5s 238ms/step - loss: 1.6021 - accuracy: 0.1844 - val_loss: 1.6036 - val_accuracy: 0.2371\n",
      "Epoch 3/20\n",
      "20/20 [==============================] - 6s 287ms/step - loss: 1.6013 - accuracy: 0.2420 - val_loss: 1.5838 - val_accuracy: 0.2649\n",
      "Epoch 4/20\n",
      "20/20 [==============================] - 6s 294ms/step - loss: 1.5830 - accuracy: 0.2506 - val_loss: 1.5774 - val_accuracy: 0.2656\n",
      "Epoch 5/20\n",
      "20/20 [==============================] - 6s 305ms/step - loss: 1.6063 - accuracy: 0.2062 - val_loss: 1.5932 - val_accuracy: 0.2456\n",
      "Epoch 6/20\n",
      "20/20 [==============================] - 6s 296ms/step - loss: 1.5763 - accuracy: 0.2709 - val_loss: 1.5627 - val_accuracy: 0.2826\n",
      "Epoch 7/20\n",
      "20/20 [==============================] - 6s 329ms/step - loss: 1.6159 - accuracy: 0.2480 - val_loss: 1.5566 - val_accuracy: 0.2849\n",
      "Epoch 8/20\n",
      "20/20 [==============================] - 7s 344ms/step - loss: 1.5851 - accuracy: 0.2378 - val_loss: 1.5881 - val_accuracy: 0.2494\n",
      "Epoch 9/20\n",
      "20/20 [==============================] - 5s 257ms/step - loss: 1.5750 - accuracy: 0.2821 - val_loss: 1.5780 - val_accuracy: 0.2649\n",
      "Epoch 10/20\n",
      "20/20 [==============================] - 5s 265ms/step - loss: 1.5588 - accuracy: 0.2837 - val_loss: 1.5435 - val_accuracy: 0.2734\n",
      "Epoch 11/20\n",
      "20/20 [==============================] - 5s 283ms/step - loss: 1.5602 - accuracy: 0.3174 - val_loss: 1.5815 - val_accuracy: 0.2533\n",
      "Epoch 12/20\n",
      "20/20 [==============================] - 6s 305ms/step - loss: 1.5900 - accuracy: 0.2574 - val_loss: 1.5474 - val_accuracy: 0.3012\n",
      "Epoch 13/20\n",
      "20/20 [==============================] - 5s 257ms/step - loss: 1.5343 - accuracy: 0.2981 - val_loss: 1.5374 - val_accuracy: 0.3027\n",
      "Epoch 14/20\n",
      "20/20 [==============================] - 5s 249ms/step - loss: 1.5533 - accuracy: 0.2962 - val_loss: 1.5704 - val_accuracy: 0.2741\n",
      "Epoch 15/20\n",
      "20/20 [==============================] - 5s 268ms/step - loss: 1.5534 - accuracy: 0.2703 - val_loss: 1.5359 - val_accuracy: 0.3081\n",
      "Epoch 16/20\n",
      "20/20 [==============================] - 6s 295ms/step - loss: 1.5418 - accuracy: 0.3203 - val_loss: 1.5478 - val_accuracy: 0.3042\n",
      "Epoch 17/20\n",
      "20/20 [==============================] - 6s 291ms/step - loss: 1.5460 - accuracy: 0.2978 - val_loss: 1.5641 - val_accuracy: 0.2780\n",
      "Epoch 18/20\n",
      "20/20 [==============================] - 5s 263ms/step - loss: 1.5480 - accuracy: 0.3250 - val_loss: 1.5501 - val_accuracy: 0.2965\n",
      "Epoch 19/20\n",
      "20/20 [==============================] - 4s 228ms/step - loss: 1.5505 - accuracy: 0.2850 - val_loss: 1.5465 - val_accuracy: 0.2965\n",
      "Epoch 20/20\n",
      "20/20 [==============================] - 4s 227ms/step - loss: 1.5314 - accuracy: 0.2888 - val_loss: 1.5376 - val_accuracy: 0.3058\n"
     ]
    }
   ],
   "source": [
    "with tf.device('/device:GPU:0'):\n",
    "    result = model.fit(\n",
    "          train_generator,\n",
    "          steps_per_epoch = 20,\n",
    "          batch_size = train_batch,\n",
    "          validation_data = validation_generator,\n",
    "          validation_batch_size= val_batch,\n",
    "          epochs=20)"
   ]
  },
  {
   "cell_type": "code",
   "execution_count": 28,
   "metadata": {
    "colab": {
     "base_uri": "https://localhost:8080/"
    },
    "id": "kAMVOUBUhcj9",
    "outputId": "db434bb6-e8e4-472f-bdc7-cb037b48335b"
   },
   "outputs": [
    {
     "name": "stdout",
     "output_type": "stream",
     "text": [
      "130/130 [==============================] - 3s 26ms/step - loss: 1.5377 - accuracy: 0.3058\n"
     ]
    },
    {
     "data": {
      "text/plain": [
       "[1.537650227546692, 0.3057914972305298]"
      ]
     },
     "execution_count": 28,
     "metadata": {},
     "output_type": "execute_result"
    }
   ],
   "source": [
    "model.evaluate(validation_generator)"
   ]
  },
  {
   "cell_type": "code",
   "execution_count": 29,
   "metadata": {
    "colab": {
     "base_uri": "https://localhost:8080/"
    },
    "id": "Ufw4FqsmU-g2",
    "outputId": "8f3fdd61-6da5-452f-e187-73ff2c55f313"
   },
   "outputs": [
    {
     "data": {
      "text/plain": [
       "dict_keys(['loss', 'accuracy', 'val_loss', 'val_accuracy'])"
      ]
     },
     "execution_count": 29,
     "metadata": {},
     "output_type": "execute_result"
    }
   ],
   "source": [
    "x = result.history.keys()\n",
    "x"
   ]
  },
  {
   "cell_type": "code",
   "execution_count": 30,
   "metadata": {
    "colab": {
     "base_uri": "https://localhost:8080/",
     "height": 573
    },
    "id": "dOKPsS3HWwUn",
    "outputId": "2abfc7a2-821f-43a7-bf5b-7c88fd80c488"
   },
   "outputs": [
    {
     "name": "stderr",
     "output_type": "stream",
     "text": [
      "Using plaidml.keras.backend backend.\n"
     ]
    },
    {
     "data": {
      "image/png": "[encoded data removed]",
      "text/plain": [
       "<Figure size 432x288 with 1 Axes>"
      ]
     },
     "metadata": {
      "needs_background": "light"
     },
     "output_type": "display_data"
    },
    {
     "data": {
      "image/png": "[encoded data removed]",
      "text/plain": [
       "<Figure size 432x288 with 1 Axes>"
      ]
     },
     "metadata": {
      "needs_background": "light"
     },
     "output_type": "display_data"
    }
   ],
   "source": [
    "\n",
    "# Visualize training history\n",
    "from keras.models import Sequential\n",
    "from keras.layers import Dense\n",
    "import matplotlib.pyplot as plt\n",
    "import numpy\n",
    "plt.plot(result.history['accuracy'])\n",
    "plt.plot(result.history['val_accuracy'])\n",
    "plt.title('model accuracy')\n",
    "plt.ylabel('accuracy')\n",
    "plt.xlabel('epoch')\n",
    "plt.legend(['train', 'test'], loc='upper left')\n",
    "plt.show()\n",
    "# summarize history for loss\n",
    "plt.plot(result.history['loss'])\n",
    "plt.plot(result.history['val_loss'])\n",
    "plt.title('model loss')\n",
    "plt.ylabel('loss')\n",
    "plt.xlabel('epoch')\n",
    "plt.legend(['train', 'test'], loc='upper left')\n",
    "plt.show()"
   ]
  },
  {
   "cell_type": "code",
   "execution_count": 31,
   "metadata": {
    "id": "u7p4aMxliqvO"
   },
   "outputs": [],
   "source": [
    "y_pred1 = model.predict(validation_generator)"
   ]
  },
  {
   "cell_type": "code",
   "execution_count": 32,
   "metadata": {
    "colab": {
     "base_uri": "https://localhost:8080/"
    },
    "id": "-qhQ6JA_i0YM",
    "outputId": "9797b44c-ae92-4003-a7e8-93fb690710fa"
   },
   "outputs": [
    {
     "data": {
      "text/plain": [
       "(1295, 5)"
      ]
     },
     "execution_count": 32,
     "metadata": {},
     "output_type": "execute_result"
    }
   ],
   "source": [
    "y_pred1.shape"
   ]
  },
  {
   "cell_type": "code",
   "execution_count": 33,
   "metadata": {
    "id": "TRKNoHsBNvdR"
   },
   "outputs": [],
   "source": [
    "list1 = []\n",
    "for i in range(0,len(validation_generator)):\n",
    "    for j in range(0,val_batch):\n",
    "        try:\n",
    "              list1.append(validation_generator[i][1][j].tolist())\n",
    "        except:\n",
    "              break"
   ]
  },
  {
   "cell_type": "code",
   "execution_count": 34,
   "metadata": {
    "id": "P9u0xdNxfeHl"
   },
   "outputs": [
    {
     "data": {
      "text/plain": [
       "array([1, 4, 1, 4, 4, 4, 4, 4, 4, 4, 1, 4, 4, 1, 1, 4, 4, 4, 4, 4, 4, 1,\n",
       "       4, 4, 4, 4, 4, 4, 1, 4], dtype=int64)"
      ]
     },
     "execution_count": 34,
     "metadata": {},
     "output_type": "execute_result"
    }
   ],
   "source": [
    "np.argmax(y_pred1, axis=1)[0:30]"
   ]
  },
  {
   "cell_type": "code",
   "execution_count": 35,
   "metadata": {
    "id": "sVy31j9On2U_"
   },
   "outputs": [
    {
     "data": {
      "text/plain": [
       "array([4, 2, 1, 3, 3, 1, 0, 4, 1, 0, 3, 1, 1, 3, 4, 2, 1, 0, 2, 3, 0, 3,\n",
       "       0, 2, 0, 4, 1, 3, 1, 1], dtype=int64)"
      ]
     },
     "execution_count": 35,
     "metadata": {},
     "output_type": "execute_result"
    }
   ],
   "source": [
    "np.argmax(list1[0:30],axis=1)"
   ]
  },
  {
   "cell_type": "code",
   "execution_count": null,
   "metadata": {
    "id": "K-SgD9VNRfD-"
   },
   "outputs": [],
   "source": []
  },
  {
   "cell_type": "code",
   "execution_count": null,
   "metadata": {
    "id": "CvcUePAg9OoZ"
   },
   "outputs": [],
   "source": [
    "len(list1)"
   ]
  },
  {
   "cell_type": "code",
   "execution_count": 36,
   "metadata": {
    "colab": {
     "base_uri": "https://localhost:8080/",
     "height": 479
    },
    "id": "gq1gUHQh_rJ5",
    "outputId": "416c6b9d-99e5-4ec4-abf2-63f9b428f0fa"
   },
   "outputs": [
    {
     "ename": "TypeError",
     "evalue": "'ImageDataGenerator' object is not subscriptable",
     "output_type": "error",
     "traceback": [
      "\u001b[1;31m---------------------------------------------------------------------------\u001b[0m",
      "\u001b[1;31mTypeError\u001b[0m                                 Traceback (most recent call last)",
      "\u001b[1;32m<ipython-input-36-143d95e5e26d>\u001b[0m in \u001b[0;36m<module>\u001b[1;34m\u001b[0m\n\u001b[0;32m      1\u001b[0m \u001b[0mplt\u001b[0m\u001b[1;33m.\u001b[0m\u001b[0mfigure\u001b[0m\u001b[1;33m(\u001b[0m\u001b[0mfigsize\u001b[0m \u001b[1;33m=\u001b[0m \u001b[1;33m(\u001b[0m\u001b[1;36m20\u001b[0m\u001b[1;33m,\u001b[0m\u001b[1;36m20\u001b[0m\u001b[1;33m)\u001b[0m\u001b[1;33m)\u001b[0m\u001b[1;33m\u001b[0m\u001b[1;33m\u001b[0m\u001b[0m\n\u001b[0;32m      2\u001b[0m \u001b[1;32mfor\u001b[0m \u001b[0mi\u001b[0m \u001b[1;32min\u001b[0m \u001b[0mrange\u001b[0m\u001b[1;33m(\u001b[0m\u001b[1;36m10\u001b[0m\u001b[1;33m)\u001b[0m\u001b[1;33m:\u001b[0m\u001b[1;33m\u001b[0m\u001b[1;33m\u001b[0m\u001b[0m\n\u001b[1;32m----> 3\u001b[1;33m     \u001b[0mimg\u001b[0m \u001b[1;33m=\u001b[0m \u001b[0mtrain_datagen\u001b[0m\u001b[1;33m[\u001b[0m\u001b[1;36m600\u001b[0m\u001b[1;33m*\u001b[0m\u001b[0mi\u001b[0m\u001b[1;33m]\u001b[0m\u001b[1;33m[\u001b[0m\u001b[1;36m0\u001b[0m\u001b[1;33m]\u001b[0m\u001b[1;33m\u001b[0m\u001b[1;33m\u001b[0m\u001b[0m\n\u001b[0m\u001b[0;32m      4\u001b[0m     \u001b[0mplt\u001b[0m\u001b[1;33m.\u001b[0m\u001b[0msubplot\u001b[0m\u001b[1;33m(\u001b[0m\u001b[1;36m1\u001b[0m\u001b[1;33m,\u001b[0m\u001b[1;36m5\u001b[0m\u001b[1;33m,\u001b[0m\u001b[0mi\u001b[0m\u001b[1;33m+\u001b[0m\u001b[1;36m1\u001b[0m\u001b[1;33m)\u001b[0m\u001b[1;33m\u001b[0m\u001b[1;33m\u001b[0m\u001b[0m\n\u001b[0;32m      5\u001b[0m     \u001b[0mplt\u001b[0m\u001b[1;33m.\u001b[0m\u001b[0mimshow\u001b[0m\u001b[1;33m(\u001b[0m\u001b[0mimg\u001b[0m\u001b[1;33m)\u001b[0m\u001b[1;33m\u001b[0m\u001b[1;33m\u001b[0m\u001b[0m\n",
      "\u001b[1;31mTypeError\u001b[0m: 'ImageDataGenerator' object is not subscriptable"
     ]
    },
    {
     "data": {
      "text/plain": [
       "<Figure size 1440x1440 with 0 Axes>"
      ]
     },
     "metadata": {},
     "output_type": "display_data"
    }
   ],
   "source": [
    "plt.figure(figsize = (20,20))\n",
    "for i in range(10):\n",
    "    img = train_datagen[600*i][0]\n",
    "    plt.subplot(1,5,i+1)\n",
    "    plt.imshow(img)\n",
    "    plt.axis(\"off\")\n",
    "    plt.title(train_datagen[600*i][1])\n",
    "plt.show()"
   ]
  }
 ],
 "metadata": {
  "accelerator": "GPU",
  "colab": {
   "collapsed_sections": [],
   "name": "flowerclassification_28_march.ipynb",
   "provenance": []
  },
  "kernelspec": {
   "display_name": "Python 3",
   "language": "python",
   "name": "python3"
  },
  "language_info": {
   "codemirror_mode": {
    "name": "ipython",
    "version": 3
   },
   "file_extension": ".py",
   "mimetype": "text/x-python",
   "name": "python",
   "nbconvert_exporter": "python",
   "pygments_lexer": "ipython3",
   "version": "3.9.2"
  }
 },
 "nbformat": 4,
 "nbformat_minor": 1
}
