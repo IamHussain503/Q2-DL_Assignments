{
 "cells": [
  {
   "cell_type": "markdown",
   "metadata": {
    "id": "CgPkafcBClHA"
   },
   "source": [
    "#Importing Libraries"
   ]
  },
  {
   "cell_type": "code",
   "execution_count": 113,
   "metadata": {
    "id": "NipDpuvkCmi6"
   },
   "outputs": [],
   "source": [
    "import pandas as pd\n",
    "import numpy as np\n",
    "import matplotlib.pyplot as plt\n",
    "import tensorflow as tf"
   ]
  },
  {
   "cell_type": "markdown",
   "metadata": {
    "id": "UxC9ci-KDQoW"
   },
   "source": [
    "#Uploading Datasets"
   ]
  },
  {
   "cell_type": "code",
   "execution_count": 114,
   "metadata": {
    "id": "B_vpinNiCxTc"
   },
   "outputs": [],
   "source": [
    "data=pd.read_csv(\"compresive_strength_concrete.csv\")"
   ]
  },
  {
   "cell_type": "code",
   "execution_count": 115,
   "metadata": {
    "colab": {
     "base_uri": "https://localhost:8080/"
    },
    "id": "VcJwnsAHIgRW",
    "outputId": "ae5e6e22-0e87-46ca-b520-c9336626e6df"
   },
   "outputs": [
    {
     "data": {
      "text/plain": [
       "(1030, 9)"
      ]
     },
     "execution_count": 115,
     "metadata": {},
     "output_type": "execute_result"
    }
   ],
   "source": [
    "data.shape"
   ]
  },
  {
   "cell_type": "code",
   "execution_count": 116,
   "metadata": {
    "colab": {
     "base_uri": "https://localhost:8080/",
     "height": 326
    },
    "id": "U0yFP1M6Ikh-",
    "outputId": "769d5d3e-3100-4b3a-b009-cc08487e88a3"
   },
   "outputs": [
    {
     "data": {
      "text/html": [
       "<div>\n",
       "<style scoped>\n",
       "    .dataframe tbody tr th:only-of-type {\n",
       "        vertical-align: middle;\n",
       "    }\n",
       "\n",
       "    .dataframe tbody tr th {\n",
       "        vertical-align: top;\n",
       "    }\n",
       "\n",
       "    .dataframe thead th {\n",
       "        text-align: right;\n",
       "    }\n",
       "</style>\n",
       "<table border=\"1\" class=\"dataframe\">\n",
       "  <thead>\n",
       "    <tr style=\"text-align: right;\">\n",
       "      <th></th>\n",
       "      <th>Cement (component 1)(kg in a m^3 mixture)</th>\n",
       "      <th>Blast Furnace Slag (component 2)(kg in a m^3 mixture)</th>\n",
       "      <th>Fly Ash (component 3)(kg in a m^3 mixture)</th>\n",
       "      <th>Water  (component 4)(kg in a m^3 mixture)</th>\n",
       "      <th>Superplasticizer (component 5)(kg in a m^3 mixture)</th>\n",
       "      <th>Coarse Aggregate  (component 6)(kg in a m^3 mixture)</th>\n",
       "      <th>Fine Aggregate (component 7)(kg in a m^3 mixture)</th>\n",
       "      <th>Age (day)</th>\n",
       "      <th>Concrete compressive strength(MPa, megapascals)</th>\n",
       "    </tr>\n",
       "  </thead>\n",
       "  <tbody>\n",
       "    <tr>\n",
       "      <th>0</th>\n",
       "      <td>540.0</td>\n",
       "      <td>0.0</td>\n",
       "      <td>0.0</td>\n",
       "      <td>162.0</td>\n",
       "      <td>2.5</td>\n",
       "      <td>1040.0</td>\n",
       "      <td>676.0</td>\n",
       "      <td>28</td>\n",
       "      <td>79.99</td>\n",
       "    </tr>\n",
       "    <tr>\n",
       "      <th>1</th>\n",
       "      <td>540.0</td>\n",
       "      <td>0.0</td>\n",
       "      <td>0.0</td>\n",
       "      <td>162.0</td>\n",
       "      <td>2.5</td>\n",
       "      <td>1055.0</td>\n",
       "      <td>676.0</td>\n",
       "      <td>28</td>\n",
       "      <td>61.89</td>\n",
       "    </tr>\n",
       "    <tr>\n",
       "      <th>2</th>\n",
       "      <td>332.5</td>\n",
       "      <td>142.5</td>\n",
       "      <td>0.0</td>\n",
       "      <td>228.0</td>\n",
       "      <td>0.0</td>\n",
       "      <td>932.0</td>\n",
       "      <td>594.0</td>\n",
       "      <td>270</td>\n",
       "      <td>40.27</td>\n",
       "    </tr>\n",
       "    <tr>\n",
       "      <th>3</th>\n",
       "      <td>332.5</td>\n",
       "      <td>142.5</td>\n",
       "      <td>0.0</td>\n",
       "      <td>228.0</td>\n",
       "      <td>0.0</td>\n",
       "      <td>932.0</td>\n",
       "      <td>594.0</td>\n",
       "      <td>365</td>\n",
       "      <td>41.05</td>\n",
       "    </tr>\n",
       "    <tr>\n",
       "      <th>4</th>\n",
       "      <td>198.6</td>\n",
       "      <td>132.4</td>\n",
       "      <td>0.0</td>\n",
       "      <td>192.0</td>\n",
       "      <td>0.0</td>\n",
       "      <td>978.4</td>\n",
       "      <td>825.5</td>\n",
       "      <td>360</td>\n",
       "      <td>44.30</td>\n",
       "    </tr>\n",
       "  </tbody>\n",
       "</table>\n",
       "</div>"
      ],
      "text/plain": [
       "   Cement (component 1)(kg in a m^3 mixture)  \\\n",
       "0                                      540.0   \n",
       "1                                      540.0   \n",
       "2                                      332.5   \n",
       "3                                      332.5   \n",
       "4                                      198.6   \n",
       "\n",
       "   Blast Furnace Slag (component 2)(kg in a m^3 mixture)  \\\n",
       "0                                                0.0       \n",
       "1                                                0.0       \n",
       "2                                              142.5       \n",
       "3                                              142.5       \n",
       "4                                              132.4       \n",
       "\n",
       "   Fly Ash (component 3)(kg in a m^3 mixture)  \\\n",
       "0                                         0.0   \n",
       "1                                         0.0   \n",
       "2                                         0.0   \n",
       "3                                         0.0   \n",
       "4                                         0.0   \n",
       "\n",
       "   Water  (component 4)(kg in a m^3 mixture)  \\\n",
       "0                                      162.0   \n",
       "1                                      162.0   \n",
       "2                                      228.0   \n",
       "3                                      228.0   \n",
       "4                                      192.0   \n",
       "\n",
       "   Superplasticizer (component 5)(kg in a m^3 mixture)  \\\n",
       "0                                                2.5     \n",
       "1                                                2.5     \n",
       "2                                                0.0     \n",
       "3                                                0.0     \n",
       "4                                                0.0     \n",
       "\n",
       "   Coarse Aggregate  (component 6)(kg in a m^3 mixture)  \\\n",
       "0                                             1040.0      \n",
       "1                                             1055.0      \n",
       "2                                              932.0      \n",
       "3                                              932.0      \n",
       "4                                              978.4      \n",
       "\n",
       "   Fine Aggregate (component 7)(kg in a m^3 mixture)  Age (day)  \\\n",
       "0                                              676.0         28   \n",
       "1                                              676.0         28   \n",
       "2                                              594.0        270   \n",
       "3                                              594.0        365   \n",
       "4                                              825.5        360   \n",
       "\n",
       "   Concrete compressive strength(MPa, megapascals)   \n",
       "0                                             79.99  \n",
       "1                                             61.89  \n",
       "2                                             40.27  \n",
       "3                                             41.05  \n",
       "4                                             44.30  "
      ]
     },
     "execution_count": 116,
     "metadata": {},
     "output_type": "execute_result"
    }
   ],
   "source": [
    "data.head()"
   ]
  },
  {
   "cell_type": "code",
   "execution_count": 117,
   "metadata": {},
   "outputs": [
    {
     "data": {
      "text/plain": [
       "Cement (component 1)(kg in a m^3 mixture)                0\n",
       "Blast Furnace Slag (component 2)(kg in a m^3 mixture)    0\n",
       "Fly Ash (component 3)(kg in a m^3 mixture)               0\n",
       "Water  (component 4)(kg in a m^3 mixture)                0\n",
       "Superplasticizer (component 5)(kg in a m^3 mixture)      0\n",
       "Coarse Aggregate  (component 6)(kg in a m^3 mixture)     0\n",
       "Fine Aggregate (component 7)(kg in a m^3 mixture)        0\n",
       "Age (day)                                                0\n",
       "Concrete compressive strength(MPa, megapascals)          0\n",
       "dtype: int64"
      ]
     },
     "execution_count": 117,
     "metadata": {},
     "output_type": "execute_result"
    }
   ],
   "source": [
    "data.isnull().sum()"
   ]
  },
  {
   "cell_type": "code",
   "execution_count": 118,
   "metadata": {},
   "outputs": [
    {
     "data": {
      "text/plain": [
       "(array([], dtype=int64), array([], dtype=int64))"
      ]
     },
     "execution_count": 118,
     "metadata": {},
     "output_type": "execute_result"
    }
   ],
   "source": [
    "np.where(data.applymap(lambda x: x == ''))"
   ]
  },
  {
   "cell_type": "code",
   "execution_count": 119,
   "metadata": {},
   "outputs": [
    {
     "data": {
      "text/html": [
       "<div>\n",
       "<style scoped>\n",
       "    .dataframe tbody tr th:only-of-type {\n",
       "        vertical-align: middle;\n",
       "    }\n",
       "\n",
       "    .dataframe tbody tr th {\n",
       "        vertical-align: top;\n",
       "    }\n",
       "\n",
       "    .dataframe thead th {\n",
       "        text-align: right;\n",
       "    }\n",
       "</style>\n",
       "<table border=\"1\" class=\"dataframe\">\n",
       "  <thead>\n",
       "    <tr style=\"text-align: right;\">\n",
       "      <th></th>\n",
       "      <th>Cement (component 1)(kg in a m^3 mixture)</th>\n",
       "      <th>Blast Furnace Slag (component 2)(kg in a m^3 mixture)</th>\n",
       "      <th>Fly Ash (component 3)(kg in a m^3 mixture)</th>\n",
       "      <th>Water  (component 4)(kg in a m^3 mixture)</th>\n",
       "      <th>Superplasticizer (component 5)(kg in a m^3 mixture)</th>\n",
       "      <th>Coarse Aggregate  (component 6)(kg in a m^3 mixture)</th>\n",
       "      <th>Fine Aggregate (component 7)(kg in a m^3 mixture)</th>\n",
       "      <th>Age (day)</th>\n",
       "      <th>Concrete compressive strength(MPa, megapascals)</th>\n",
       "    </tr>\n",
       "  </thead>\n",
       "  <tbody>\n",
       "    <tr>\n",
       "      <th>count</th>\n",
       "      <td>1030.000000</td>\n",
       "      <td>1030.000000</td>\n",
       "      <td>1030.000000</td>\n",
       "      <td>1030.000000</td>\n",
       "      <td>1030.000000</td>\n",
       "      <td>1030.000000</td>\n",
       "      <td>1030.000000</td>\n",
       "      <td>1030.000000</td>\n",
       "      <td>1030.000000</td>\n",
       "    </tr>\n",
       "    <tr>\n",
       "      <th>mean</th>\n",
       "      <td>281.167864</td>\n",
       "      <td>73.895825</td>\n",
       "      <td>54.188350</td>\n",
       "      <td>181.567282</td>\n",
       "      <td>6.204660</td>\n",
       "      <td>972.918932</td>\n",
       "      <td>773.580485</td>\n",
       "      <td>45.662136</td>\n",
       "      <td>35.817961</td>\n",
       "    </tr>\n",
       "    <tr>\n",
       "      <th>std</th>\n",
       "      <td>104.506364</td>\n",
       "      <td>86.279342</td>\n",
       "      <td>63.997004</td>\n",
       "      <td>21.354219</td>\n",
       "      <td>5.973841</td>\n",
       "      <td>77.753954</td>\n",
       "      <td>80.175980</td>\n",
       "      <td>63.169912</td>\n",
       "      <td>16.705742</td>\n",
       "    </tr>\n",
       "    <tr>\n",
       "      <th>min</th>\n",
       "      <td>102.000000</td>\n",
       "      <td>0.000000</td>\n",
       "      <td>0.000000</td>\n",
       "      <td>121.800000</td>\n",
       "      <td>0.000000</td>\n",
       "      <td>801.000000</td>\n",
       "      <td>594.000000</td>\n",
       "      <td>1.000000</td>\n",
       "      <td>2.330000</td>\n",
       "    </tr>\n",
       "    <tr>\n",
       "      <th>25%</th>\n",
       "      <td>192.375000</td>\n",
       "      <td>0.000000</td>\n",
       "      <td>0.000000</td>\n",
       "      <td>164.900000</td>\n",
       "      <td>0.000000</td>\n",
       "      <td>932.000000</td>\n",
       "      <td>730.950000</td>\n",
       "      <td>7.000000</td>\n",
       "      <td>23.710000</td>\n",
       "    </tr>\n",
       "    <tr>\n",
       "      <th>50%</th>\n",
       "      <td>272.900000</td>\n",
       "      <td>22.000000</td>\n",
       "      <td>0.000000</td>\n",
       "      <td>185.000000</td>\n",
       "      <td>6.400000</td>\n",
       "      <td>968.000000</td>\n",
       "      <td>779.500000</td>\n",
       "      <td>28.000000</td>\n",
       "      <td>34.445000</td>\n",
       "    </tr>\n",
       "    <tr>\n",
       "      <th>75%</th>\n",
       "      <td>350.000000</td>\n",
       "      <td>142.950000</td>\n",
       "      <td>118.300000</td>\n",
       "      <td>192.000000</td>\n",
       "      <td>10.200000</td>\n",
       "      <td>1029.400000</td>\n",
       "      <td>824.000000</td>\n",
       "      <td>56.000000</td>\n",
       "      <td>46.135000</td>\n",
       "    </tr>\n",
       "    <tr>\n",
       "      <th>max</th>\n",
       "      <td>540.000000</td>\n",
       "      <td>359.400000</td>\n",
       "      <td>200.100000</td>\n",
       "      <td>247.000000</td>\n",
       "      <td>32.200000</td>\n",
       "      <td>1145.000000</td>\n",
       "      <td>992.600000</td>\n",
       "      <td>365.000000</td>\n",
       "      <td>82.600000</td>\n",
       "    </tr>\n",
       "  </tbody>\n",
       "</table>\n",
       "</div>"
      ],
      "text/plain": [
       "       Cement (component 1)(kg in a m^3 mixture)  \\\n",
       "count                                1030.000000   \n",
       "mean                                  281.167864   \n",
       "std                                   104.506364   \n",
       "min                                   102.000000   \n",
       "25%                                   192.375000   \n",
       "50%                                   272.900000   \n",
       "75%                                   350.000000   \n",
       "max                                   540.000000   \n",
       "\n",
       "       Blast Furnace Slag (component 2)(kg in a m^3 mixture)  \\\n",
       "count                                        1030.000000       \n",
       "mean                                           73.895825       \n",
       "std                                            86.279342       \n",
       "min                                             0.000000       \n",
       "25%                                             0.000000       \n",
       "50%                                            22.000000       \n",
       "75%                                           142.950000       \n",
       "max                                           359.400000       \n",
       "\n",
       "       Fly Ash (component 3)(kg in a m^3 mixture)  \\\n",
       "count                                 1030.000000   \n",
       "mean                                    54.188350   \n",
       "std                                     63.997004   \n",
       "min                                      0.000000   \n",
       "25%                                      0.000000   \n",
       "50%                                      0.000000   \n",
       "75%                                    118.300000   \n",
       "max                                    200.100000   \n",
       "\n",
       "       Water  (component 4)(kg in a m^3 mixture)  \\\n",
       "count                                1030.000000   \n",
       "mean                                  181.567282   \n",
       "std                                    21.354219   \n",
       "min                                   121.800000   \n",
       "25%                                   164.900000   \n",
       "50%                                   185.000000   \n",
       "75%                                   192.000000   \n",
       "max                                   247.000000   \n",
       "\n",
       "       Superplasticizer (component 5)(kg in a m^3 mixture)  \\\n",
       "count                                        1030.000000     \n",
       "mean                                            6.204660     \n",
       "std                                             5.973841     \n",
       "min                                             0.000000     \n",
       "25%                                             0.000000     \n",
       "50%                                             6.400000     \n",
       "75%                                            10.200000     \n",
       "max                                            32.200000     \n",
       "\n",
       "       Coarse Aggregate  (component 6)(kg in a m^3 mixture)  \\\n",
       "count                                        1030.000000      \n",
       "mean                                          972.918932      \n",
       "std                                            77.753954      \n",
       "min                                           801.000000      \n",
       "25%                                           932.000000      \n",
       "50%                                           968.000000      \n",
       "75%                                          1029.400000      \n",
       "max                                          1145.000000      \n",
       "\n",
       "       Fine Aggregate (component 7)(kg in a m^3 mixture)    Age (day)  \\\n",
       "count                                        1030.000000  1030.000000   \n",
       "mean                                          773.580485    45.662136   \n",
       "std                                            80.175980    63.169912   \n",
       "min                                           594.000000     1.000000   \n",
       "25%                                           730.950000     7.000000   \n",
       "50%                                           779.500000    28.000000   \n",
       "75%                                           824.000000    56.000000   \n",
       "max                                           992.600000   365.000000   \n",
       "\n",
       "       Concrete compressive strength(MPa, megapascals)   \n",
       "count                                       1030.000000  \n",
       "mean                                          35.817961  \n",
       "std                                           16.705742  \n",
       "min                                            2.330000  \n",
       "25%                                           23.710000  \n",
       "50%                                           34.445000  \n",
       "75%                                           46.135000  \n",
       "max                                           82.600000  "
      ]
     },
     "execution_count": 119,
     "metadata": {},
     "output_type": "execute_result"
    }
   ],
   "source": [
    "data.describe()"
   ]
  },
  {
   "cell_type": "code",
   "execution_count": 120,
   "metadata": {},
   "outputs": [
    {
     "name": "stdout",
     "output_type": "stream",
     "text": [
      "<class 'pandas.core.frame.DataFrame'>\n",
      "RangeIndex: 1030 entries, 0 to 1029\n",
      "Data columns (total 9 columns):\n",
      " #   Column                                                 Non-Null Count  Dtype  \n",
      "---  ------                                                 --------------  -----  \n",
      " 0   Cement (component 1)(kg in a m^3 mixture)              1030 non-null   float64\n",
      " 1   Blast Furnace Slag (component 2)(kg in a m^3 mixture)  1030 non-null   float64\n",
      " 2   Fly Ash (component 3)(kg in a m^3 mixture)             1030 non-null   float64\n",
      " 3   Water  (component 4)(kg in a m^3 mixture)              1030 non-null   float64\n",
      " 4   Superplasticizer (component 5)(kg in a m^3 mixture)    1030 non-null   float64\n",
      " 5   Coarse Aggregate  (component 6)(kg in a m^3 mixture)   1030 non-null   float64\n",
      " 6   Fine Aggregate (component 7)(kg in a m^3 mixture)      1030 non-null   float64\n",
      " 7   Age (day)                                              1030 non-null   int64  \n",
      " 8   Concrete compressive strength(MPa, megapascals)        1030 non-null   float64\n",
      "dtypes: float64(8), int64(1)\n",
      "memory usage: 72.5 KB\n"
     ]
    }
   ],
   "source": [
    "data.info()"
   ]
  },
  {
   "cell_type": "code",
   "execution_count": 121,
   "metadata": {},
   "outputs": [
    {
     "data": {
      "text/plain": [
       "False"
      ]
     },
     "execution_count": 121,
     "metadata": {},
     "output_type": "execute_result"
    }
   ],
   "source": [
    "data.empty"
   ]
  },
  {
   "cell_type": "code",
   "execution_count": 122,
   "metadata": {},
   "outputs": [],
   "source": [
    "X_train = data.sample(frac = 0.7, random_state = 123)\n",
    "X_test = data.drop(X_train.index)"
   ]
  },
  {
   "cell_type": "code",
   "execution_count": 123,
   "metadata": {},
   "outputs": [
    {
     "data": {
      "text/html": [
       "<div>\n",
       "<style scoped>\n",
       "    .dataframe tbody tr th:only-of-type {\n",
       "        vertical-align: middle;\n",
       "    }\n",
       "\n",
       "    .dataframe tbody tr th {\n",
       "        vertical-align: top;\n",
       "    }\n",
       "\n",
       "    .dataframe thead th {\n",
       "        text-align: right;\n",
       "    }\n",
       "</style>\n",
       "<table border=\"1\" class=\"dataframe\">\n",
       "  <thead>\n",
       "    <tr style=\"text-align: right;\">\n",
       "      <th></th>\n",
       "      <th>Cement (component 1)(kg in a m^3 mixture)</th>\n",
       "      <th>Blast Furnace Slag (component 2)(kg in a m^3 mixture)</th>\n",
       "      <th>Fly Ash (component 3)(kg in a m^3 mixture)</th>\n",
       "      <th>Water  (component 4)(kg in a m^3 mixture)</th>\n",
       "      <th>Superplasticizer (component 5)(kg in a m^3 mixture)</th>\n",
       "      <th>Coarse Aggregate  (component 6)(kg in a m^3 mixture)</th>\n",
       "      <th>Fine Aggregate (component 7)(kg in a m^3 mixture)</th>\n",
       "      <th>Age (day)</th>\n",
       "      <th>Concrete compressive strength(MPa, megapascals)</th>\n",
       "    </tr>\n",
       "  </thead>\n",
       "  <tbody>\n",
       "    <tr>\n",
       "      <th>134</th>\n",
       "      <td>362.6</td>\n",
       "      <td>189.0</td>\n",
       "      <td>0.0</td>\n",
       "      <td>164.9</td>\n",
       "      <td>11.6</td>\n",
       "      <td>944.7</td>\n",
       "      <td>755.8</td>\n",
       "      <td>28</td>\n",
       "      <td>71.30</td>\n",
       "    </tr>\n",
       "    <tr>\n",
       "      <th>13</th>\n",
       "      <td>190.0</td>\n",
       "      <td>190.0</td>\n",
       "      <td>0.0</td>\n",
       "      <td>228.0</td>\n",
       "      <td>0.0</td>\n",
       "      <td>932.0</td>\n",
       "      <td>670.0</td>\n",
       "      <td>90</td>\n",
       "      <td>42.33</td>\n",
       "    </tr>\n",
       "    <tr>\n",
       "      <th>996</th>\n",
       "      <td>152.6</td>\n",
       "      <td>238.7</td>\n",
       "      <td>0.0</td>\n",
       "      <td>200.0</td>\n",
       "      <td>6.3</td>\n",
       "      <td>1001.8</td>\n",
       "      <td>683.9</td>\n",
       "      <td>28</td>\n",
       "      <td>26.86</td>\n",
       "    </tr>\n",
       "    <tr>\n",
       "      <th>770</th>\n",
       "      <td>349.0</td>\n",
       "      <td>0.0</td>\n",
       "      <td>0.0</td>\n",
       "      <td>192.0</td>\n",
       "      <td>0.0</td>\n",
       "      <td>1047.0</td>\n",
       "      <td>806.0</td>\n",
       "      <td>3</td>\n",
       "      <td>14.99</td>\n",
       "    </tr>\n",
       "    <tr>\n",
       "      <th>937</th>\n",
       "      <td>313.3</td>\n",
       "      <td>0.0</td>\n",
       "      <td>113.0</td>\n",
       "      <td>178.5</td>\n",
       "      <td>8.0</td>\n",
       "      <td>1001.9</td>\n",
       "      <td>688.7</td>\n",
       "      <td>28</td>\n",
       "      <td>36.80</td>\n",
       "    </tr>\n",
       "  </tbody>\n",
       "</table>\n",
       "</div>"
      ],
      "text/plain": [
       "     Cement (component 1)(kg in a m^3 mixture)  \\\n",
       "134                                      362.6   \n",
       "13                                       190.0   \n",
       "996                                      152.6   \n",
       "770                                      349.0   \n",
       "937                                      313.3   \n",
       "\n",
       "     Blast Furnace Slag (component 2)(kg in a m^3 mixture)  \\\n",
       "134                                              189.0       \n",
       "13                                               190.0       \n",
       "996                                              238.7       \n",
       "770                                                0.0       \n",
       "937                                                0.0       \n",
       "\n",
       "     Fly Ash (component 3)(kg in a m^3 mixture)  \\\n",
       "134                                         0.0   \n",
       "13                                          0.0   \n",
       "996                                         0.0   \n",
       "770                                         0.0   \n",
       "937                                       113.0   \n",
       "\n",
       "     Water  (component 4)(kg in a m^3 mixture)  \\\n",
       "134                                      164.9   \n",
       "13                                       228.0   \n",
       "996                                      200.0   \n",
       "770                                      192.0   \n",
       "937                                      178.5   \n",
       "\n",
       "     Superplasticizer (component 5)(kg in a m^3 mixture)  \\\n",
       "134                                               11.6     \n",
       "13                                                 0.0     \n",
       "996                                                6.3     \n",
       "770                                                0.0     \n",
       "937                                                8.0     \n",
       "\n",
       "     Coarse Aggregate  (component 6)(kg in a m^3 mixture)  \\\n",
       "134                                              944.7      \n",
       "13                                               932.0      \n",
       "996                                             1001.8      \n",
       "770                                             1047.0      \n",
       "937                                             1001.9      \n",
       "\n",
       "     Fine Aggregate (component 7)(kg in a m^3 mixture)  Age (day)  \\\n",
       "134                                              755.8         28   \n",
       "13                                               670.0         90   \n",
       "996                                              683.9         28   \n",
       "770                                              806.0          3   \n",
       "937                                              688.7         28   \n",
       "\n",
       "     Concrete compressive strength(MPa, megapascals)   \n",
       "134                                             71.30  \n",
       "13                                              42.33  \n",
       "996                                             26.86  \n",
       "770                                             14.99  \n",
       "937                                             36.80  "
      ]
     },
     "execution_count": 123,
     "metadata": {},
     "output_type": "execute_result"
    }
   ],
   "source": [
    "X_train.head()"
   ]
  },
  {
   "cell_type": "markdown",
   "metadata": {
    "id": "CcvbbUpmJFCi"
   },
   "source": [
    "#Assigning features and target variable"
   ]
  },
  {
   "cell_type": "code",
   "execution_count": 124,
   "metadata": {
    "id": "OTv_VabYIj83"
   },
   "outputs": [],
   "source": [
    "Y_train = X_train.iloc[:,-1]\n",
    "X_train = X_train.iloc[:,0:-1]\n",
    "Y_test = X_test.iloc[:,-1]\n",
    "X_test = X_test.iloc[:,0:-1]"
   ]
  },
  {
   "cell_type": "code",
   "execution_count": 125,
   "metadata": {
    "id": "KHF-Yeo2JTyg"
   },
   "outputs": [],
   "source": [
    "X_mean = X_train.mean()\n",
    "X_train -= X_mean\n",
    "X_std = X_train.std()\n",
    "X_train /= X_std\n",
    "X_test -= X_mean\n",
    "X_test /= X_std"
   ]
  },
  {
   "cell_type": "code",
   "execution_count": 126,
   "metadata": {},
   "outputs": [],
   "source": [
    "# Y_mean = Y_train.mean()\n",
    "# Y_train -= Y_mean\n",
    "# Y_std = Y_train.std()\n",
    "# Y_train /= Y_std\n",
    "# Y_test -= Y_mean\n",
    "# Y_test /= Y_std"
   ]
  },
  {
   "cell_type": "code",
   "execution_count": 127,
   "metadata": {},
   "outputs": [
    {
     "data": {
      "text/plain": [
       "134    71.30\n",
       "13     42.33\n",
       "996    26.86\n",
       "770    14.99\n",
       "937    36.80\n",
       "       ...  \n",
       "931    15.34\n",
       "466    33.56\n",
       "983    29.07\n",
       "918    10.54\n",
       "423    29.75\n",
       "Name: Concrete compressive strength(MPa, megapascals) , Length: 721, dtype: float64"
      ]
     },
     "execution_count": 127,
     "metadata": {},
     "output_type": "execute_result"
    }
   ],
   "source": [
    "Y_train"
   ]
  },
  {
   "cell_type": "code",
   "execution_count": 128,
   "metadata": {},
   "outputs": [
    {
     "data": {
      "text/plain": [
       "Cement (component 1)(kg in a m^3 mixture)                float64\n",
       "Blast Furnace Slag (component 2)(kg in a m^3 mixture)    float64\n",
       "Fly Ash (component 3)(kg in a m^3 mixture)               float64\n",
       "Water  (component 4)(kg in a m^3 mixture)                float64\n",
       "Superplasticizer (component 5)(kg in a m^3 mixture)      float64\n",
       "Coarse Aggregate  (component 6)(kg in a m^3 mixture)     float64\n",
       "Fine Aggregate (component 7)(kg in a m^3 mixture)        float64\n",
       "Age (day)                                                float64\n",
       "dtype: object"
      ]
     },
     "execution_count": 128,
     "metadata": {},
     "output_type": "execute_result"
    }
   ],
   "source": [
    "X_train.dtypes"
   ]
  },
  {
   "cell_type": "code",
   "execution_count": 129,
   "metadata": {},
   "outputs": [],
   "source": [
    "X_train = X_train.to_numpy()\n",
    "Y_train = Y_train.to_numpy()\n",
    "X_test = X_test.to_numpy()\n",
    "Y_test = Y_test.to_numpy()\n"
   ]
  },
  {
   "cell_type": "markdown",
   "metadata": {
    "id": "Lj_iCk5vL5E7"
   },
   "source": [
    "#Training and testing data splittion"
   ]
  },
  {
   "cell_type": "markdown",
   "metadata": {
    "id": "_LMH3tMeMbXN"
   },
   "source": [
    "#Model selection"
   ]
  },
  {
   "cell_type": "code",
   "execution_count": 130,
   "metadata": {
    "id": "N71E3GgCMTCO"
   },
   "outputs": [],
   "source": [
    "from tensorflow.keras import layers as L\n",
    "from tensorflow.keras import models as M"
   ]
  },
  {
   "cell_type": "code",
   "execution_count": 131,
   "metadata": {
    "id": "PZIj7pgIMhcg"
   },
   "outputs": [],
   "source": [
    "network = M.Sequential()"
   ]
  },
  {
   "cell_type": "code",
   "execution_count": 132,
   "metadata": {
    "id": "jcIypzdFMrDX"
   },
   "outputs": [],
   "source": [
    "network.add(L.Dense(128,activation=\"relu\",input_shape=(X_train.shape[1],)))"
   ]
  },
  {
   "cell_type": "code",
   "execution_count": 133,
   "metadata": {
    "id": "gl8qko4FM3j4"
   },
   "outputs": [],
   "source": [
    "network.add(L.Dense(64,activation=\"relu\"))"
   ]
  },
  {
   "cell_type": "code",
   "execution_count": 134,
   "metadata": {
    "id": "LQ2VEXd9M8Uw"
   },
   "outputs": [],
   "source": [
    "network.add(L.Dense(32,activation=\"relu\"))"
   ]
  },
  {
   "cell_type": "code",
   "execution_count": 135,
   "metadata": {
    "id": "yWUmN_KvNCno"
   },
   "outputs": [],
   "source": [
    "network.add(L.Dense(1))"
   ]
  },
  {
   "cell_type": "code",
   "execution_count": 136,
   "metadata": {
    "id": "zSyeoyk0Nsa2"
   },
   "outputs": [],
   "source": [
    "network.compile(optimizer=\"rmsprop\",loss=[\"mse\"],metrics=[\"mae\"])"
   ]
  },
  {
   "cell_type": "code",
   "execution_count": 137,
   "metadata": {
    "colab": {
     "base_uri": "https://localhost:8080/"
    },
    "id": "E8cCCFviOKuF",
    "outputId": "c6eebdfa-f576-4106-ec4b-38cba2572df0"
   },
   "outputs": [
    {
     "name": "stdout",
     "output_type": "stream",
     "text": [
      "Epoch 1/200\n",
      "32/32 [==============================] - 2s 13ms/step - loss: 1342.7314 - mae: 32.8904 - val_loss: 773.6928 - val_mae: 22.7994\n",
      "Epoch 2/200\n",
      "32/32 [==============================] - 0s 5ms/step - loss: 679.5193 - mae: 20.9802 - val_loss: 260.6448 - val_mae: 12.9268\n",
      "Epoch 3/200\n",
      "32/32 [==============================] - 0s 5ms/step - loss: 237.3111 - mae: 12.5631 - val_loss: 204.1664 - val_mae: 11.6835\n",
      "Epoch 4/200\n",
      "32/32 [==============================] - 0s 4ms/step - loss: 207.5877 - mae: 11.6239 - val_loss: 187.3655 - val_mae: 11.2048\n",
      "Epoch 5/200\n",
      "32/32 [==============================] - 0s 5ms/step - loss: 198.7188 - mae: 11.6061 - val_loss: 171.8701 - val_mae: 10.7414\n",
      "Epoch 6/200\n",
      "32/32 [==============================] - 0s 4ms/step - loss: 183.8562 - mae: 11.3610 - val_loss: 166.8164 - val_mae: 10.6308\n",
      "Epoch 7/200\n",
      "32/32 [==============================] - 0s 5ms/step - loss: 167.3775 - mae: 10.5053 - val_loss: 161.8087 - val_mae: 10.4673\n",
      "Epoch 8/200\n",
      "32/32 [==============================] - 0s 5ms/step - loss: 156.3978 - mae: 10.2190 - val_loss: 148.4382 - val_mae: 10.0082\n",
      "Epoch 9/200\n",
      "32/32 [==============================] - 0s 4ms/step - loss: 145.4930 - mae: 9.6925 - val_loss: 146.0628 - val_mae: 9.9001\n",
      "Epoch 10/200\n",
      "32/32 [==============================] - 0s 4ms/step - loss: 144.8805 - mae: 9.7691 - val_loss: 147.2059 - val_mae: 9.8634\n",
      "Epoch 11/200\n",
      "32/32 [==============================] - 0s 5ms/step - loss: 141.5389 - mae: 9.6493 - val_loss: 133.6392 - val_mae: 9.5122\n",
      "Epoch 12/200\n",
      "32/32 [==============================] - 0s 5ms/step - loss: 128.3911 - mae: 9.2483 - val_loss: 134.6249 - val_mae: 9.4774\n",
      "Epoch 13/200\n",
      "32/32 [==============================] - 0s 5ms/step - loss: 126.8984 - mae: 9.2075 - val_loss: 125.8673 - val_mae: 9.2042\n",
      "Epoch 14/200\n",
      "32/32 [==============================] - 0s 4ms/step - loss: 125.0382 - mae: 9.0906 - val_loss: 123.4910 - val_mae: 9.0042\n",
      "Epoch 15/200\n",
      "32/32 [==============================] - 0s 4ms/step - loss: 117.5228 - mae: 8.7409 - val_loss: 117.9929 - val_mae: 8.7561\n",
      "Epoch 16/200\n",
      "32/32 [==============================] - 0s 4ms/step - loss: 100.4713 - mae: 8.1345 - val_loss: 112.0783 - val_mae: 8.4882\n",
      "Epoch 17/200\n",
      "32/32 [==============================] - 0s 5ms/step - loss: 102.9926 - mae: 8.1501 - val_loss: 106.4408 - val_mae: 8.2074\n",
      "Epoch 18/200\n",
      "32/32 [==============================] - 0s 4ms/step - loss: 109.6945 - mae: 8.3832 - val_loss: 99.7889 - val_mae: 7.9268\n",
      "Epoch 19/200\n",
      "32/32 [==============================] - 0s 4ms/step - loss: 90.1535 - mae: 7.6836 - val_loss: 101.8870 - val_mae: 7.8047\n",
      "Epoch 20/200\n",
      "32/32 [==============================] - 0s 5ms/step - loss: 84.9069 - mae: 7.3623 - val_loss: 100.7022 - val_mae: 7.8926\n",
      "Epoch 21/200\n",
      "32/32 [==============================] - 0s 4ms/step - loss: 72.4024 - mae: 6.8196 - val_loss: 87.0631 - val_mae: 7.3083\n",
      "Epoch 22/200\n",
      "32/32 [==============================] - 0s 5ms/step - loss: 75.5227 - mae: 7.0097 - val_loss: 88.9239 - val_mae: 7.4731\n",
      "Epoch 23/200\n",
      "32/32 [==============================] - 0s 4ms/step - loss: 64.3768 - mae: 6.3336 - val_loss: 78.7532 - val_mae: 6.8283\n",
      "Epoch 24/200\n",
      "32/32 [==============================] - 0s 5ms/step - loss: 64.6112 - mae: 6.2452 - val_loss: 76.5551 - val_mae: 6.5701\n",
      "Epoch 25/200\n",
      "32/32 [==============================] - 0s 5ms/step - loss: 59.8914 - mae: 6.1440 - val_loss: 74.1938 - val_mae: 6.5091\n",
      "Epoch 26/200\n",
      "32/32 [==============================] - 0s 4ms/step - loss: 50.0532 - mae: 5.5646 - val_loss: 69.1324 - val_mae: 6.2452\n",
      "Epoch 27/200\n",
      "32/32 [==============================] - 0s 3ms/step - loss: 50.7776 - mae: 5.4982 - val_loss: 67.6886 - val_mae: 6.2288\n",
      "Epoch 28/200\n",
      "32/32 [==============================] - 0s 3ms/step - loss: 46.9517 - mae: 5.3687 - val_loss: 68.8077 - val_mae: 6.1302\n",
      "Epoch 29/200\n",
      "32/32 [==============================] - 0s 4ms/step - loss: 42.1573 - mae: 5.1914 - val_loss: 64.4465 - val_mae: 5.8212\n",
      "Epoch 30/200\n",
      "32/32 [==============================] - 0s 3ms/step - loss: 48.5904 - mae: 5.4001 - val_loss: 63.5567 - val_mae: 5.9006\n",
      "Epoch 31/200\n",
      "32/32 [==============================] - 0s 5ms/step - loss: 40.3491 - mae: 4.9257 - val_loss: 64.3219 - val_mae: 5.8841\n",
      "Epoch 32/200\n",
      "32/32 [==============================] - 0s 3ms/step - loss: 40.2638 - mae: 4.9506 - val_loss: 60.0785 - val_mae: 5.7435\n",
      "Epoch 33/200\n",
      "32/32 [==============================] - 0s 4ms/step - loss: 36.2868 - mae: 4.6379 - val_loss: 63.8874 - val_mae: 5.9356\n",
      "Epoch 34/200\n",
      "32/32 [==============================] - 0s 4ms/step - loss: 37.9090 - mae: 4.7654 - val_loss: 61.0928 - val_mae: 5.8892\n",
      "Epoch 35/200\n",
      "32/32 [==============================] - 0s 5ms/step - loss: 37.8164 - mae: 4.5789 - val_loss: 56.8671 - val_mae: 5.7251\n",
      "Epoch 36/200\n",
      "32/32 [==============================] - 0s 4ms/step - loss: 31.6104 - mae: 4.2468 - val_loss: 58.4415 - val_mae: 5.6534\n",
      "Epoch 37/200\n",
      "32/32 [==============================] - 0s 4ms/step - loss: 36.4477 - mae: 4.4774 - val_loss: 57.5545 - val_mae: 5.7136\n",
      "Epoch 38/200\n",
      "32/32 [==============================] - 0s 4ms/step - loss: 29.5165 - mae: 4.1217 - val_loss: 61.2095 - val_mae: 5.8633\n",
      "Epoch 39/200\n",
      "32/32 [==============================] - 0s 5ms/step - loss: 33.2949 - mae: 4.3561 - val_loss: 54.2631 - val_mae: 5.4614\n",
      "Epoch 40/200\n",
      "32/32 [==============================] - 0s 4ms/step - loss: 31.2449 - mae: 4.3423 - val_loss: 59.8100 - val_mae: 5.7431\n",
      "Epoch 41/200\n",
      "32/32 [==============================] - 0s 4ms/step - loss: 29.3667 - mae: 4.1038 - val_loss: 54.0380 - val_mae: 5.5746\n",
      "Epoch 42/200\n",
      "32/32 [==============================] - 0s 4ms/step - loss: 32.5542 - mae: 4.1346 - val_loss: 53.2801 - val_mae: 5.6058\n",
      "Epoch 43/200\n",
      "32/32 [==============================] - 0s 4ms/step - loss: 31.4733 - mae: 4.2809 - val_loss: 64.9070 - val_mae: 6.1315\n",
      "Epoch 44/200\n",
      "32/32 [==============================] - 0s 4ms/step - loss: 27.2096 - mae: 4.0235 - val_loss: 56.5346 - val_mae: 5.8512\n",
      "Epoch 45/200\n",
      "32/32 [==============================] - 0s 3ms/step - loss: 25.2697 - mae: 3.9774 - val_loss: 57.9635 - val_mae: 5.8393\n",
      "Epoch 46/200\n",
      "32/32 [==============================] - 0s 4ms/step - loss: 24.9772 - mae: 3.7633 - val_loss: 60.0836 - val_mae: 5.9472\n",
      "Epoch 47/200\n",
      "32/32 [==============================] - 0s 4ms/step - loss: 27.7795 - mae: 4.0570 - val_loss: 50.0748 - val_mae: 5.3895\n",
      "Epoch 48/200\n",
      "32/32 [==============================] - 0s 5ms/step - loss: 26.4886 - mae: 3.9749 - val_loss: 50.7083 - val_mae: 5.2913\n",
      "Epoch 49/200\n",
      "32/32 [==============================] - 0s 5ms/step - loss: 27.0546 - mae: 4.0493 - val_loss: 47.4500 - val_mae: 5.1554\n",
      "Epoch 50/200\n",
      "32/32 [==============================] - 0s 5ms/step - loss: 25.9305 - mae: 3.9892 - val_loss: 45.6067 - val_mae: 5.1535\n",
      "Epoch 51/200\n",
      "32/32 [==============================] - 0s 4ms/step - loss: 22.7023 - mae: 3.6602 - val_loss: 49.2506 - val_mae: 5.4090\n",
      "Epoch 52/200\n",
      "32/32 [==============================] - 0s 4ms/step - loss: 24.7597 - mae: 3.7486 - val_loss: 48.9897 - val_mae: 5.3036\n",
      "Epoch 53/200\n",
      "32/32 [==============================] - 0s 5ms/step - loss: 25.7223 - mae: 3.9615 - val_loss: 48.5173 - val_mae: 5.2650\n",
      "Epoch 54/200\n",
      "32/32 [==============================] - 0s 4ms/step - loss: 27.5803 - mae: 3.8505 - val_loss: 47.5394 - val_mae: 5.2086\n",
      "Epoch 55/200\n",
      "32/32 [==============================] - 0s 4ms/step - loss: 22.1818 - mae: 3.6252 - val_loss: 47.5221 - val_mae: 5.1780\n",
      "Epoch 56/200\n",
      "32/32 [==============================] - 0s 4ms/step - loss: 23.3455 - mae: 3.6869 - val_loss: 43.9477 - val_mae: 4.9906\n",
      "Epoch 57/200\n",
      "32/32 [==============================] - 0s 4ms/step - loss: 24.5915 - mae: 3.8123 - val_loss: 45.8183 - val_mae: 5.1952\n",
      "Epoch 58/200\n",
      "32/32 [==============================] - 0s 4ms/step - loss: 24.3452 - mae: 3.8227 - val_loss: 55.2557 - val_mae: 5.6838\n",
      "Epoch 59/200\n",
      "32/32 [==============================] - 0s 4ms/step - loss: 23.1061 - mae: 3.6713 - val_loss: 45.7980 - val_mae: 5.0976\n",
      "Epoch 60/200\n",
      "32/32 [==============================] - 0s 5ms/step - loss: 21.8041 - mae: 3.6693 - val_loss: 42.5959 - val_mae: 4.9187\n",
      "Epoch 61/200\n",
      "32/32 [==============================] - 0s 5ms/step - loss: 20.9258 - mae: 3.5785 - val_loss: 44.2263 - val_mae: 4.9668\n"
     ]
    },
    {
     "name": "stdout",
     "output_type": "stream",
     "text": [
      "Epoch 62/200\n",
      "32/32 [==============================] - 0s 4ms/step - loss: 21.0026 - mae: 3.5313 - val_loss: 45.8754 - val_mae: 5.0954\n",
      "Epoch 63/200\n",
      "32/32 [==============================] - 0s 4ms/step - loss: 22.5311 - mae: 3.6131 - val_loss: 45.4562 - val_mae: 5.0627\n",
      "Epoch 64/200\n",
      "32/32 [==============================] - 0s 4ms/step - loss: 20.1604 - mae: 3.5146 - val_loss: 47.5218 - val_mae: 5.3583\n",
      "Epoch 65/200\n",
      "32/32 [==============================] - 0s 4ms/step - loss: 20.2051 - mae: 3.5264 - val_loss: 42.0827 - val_mae: 4.9444\n",
      "Epoch 66/200\n",
      "32/32 [==============================] - 0s 4ms/step - loss: 19.4697 - mae: 3.4698 - val_loss: 47.0656 - val_mae: 5.1678\n",
      "Epoch 67/200\n",
      "32/32 [==============================] - 0s 4ms/step - loss: 19.0147 - mae: 3.3886 - val_loss: 42.1882 - val_mae: 4.9876\n",
      "Epoch 68/200\n",
      "32/32 [==============================] - 0s 5ms/step - loss: 18.5131 - mae: 3.2466 - val_loss: 46.2067 - val_mae: 5.1137\n",
      "Epoch 69/200\n",
      "32/32 [==============================] - 0s 5ms/step - loss: 21.6146 - mae: 3.6313 - val_loss: 41.6549 - val_mae: 4.9477\n",
      "Epoch 70/200\n",
      "32/32 [==============================] - 0s 4ms/step - loss: 21.4781 - mae: 3.5474 - val_loss: 65.2244 - val_mae: 5.9848\n",
      "Epoch 71/200\n",
      "32/32 [==============================] - 0s 5ms/step - loss: 22.4627 - mae: 3.6552 - val_loss: 45.7839 - val_mae: 5.0702\n",
      "Epoch 72/200\n",
      "32/32 [==============================] - 0s 5ms/step - loss: 18.2582 - mae: 3.2638 - val_loss: 42.1140 - val_mae: 4.9325\n",
      "Epoch 73/200\n",
      "32/32 [==============================] - 0s 5ms/step - loss: 21.5972 - mae: 3.5362 - val_loss: 50.3103 - val_mae: 5.3300\n",
      "Epoch 74/200\n",
      "32/32 [==============================] - 0s 5ms/step - loss: 20.6231 - mae: 3.4532 - val_loss: 42.1149 - val_mae: 4.9500\n",
      "Epoch 75/200\n",
      "32/32 [==============================] - 0s 4ms/step - loss: 22.9300 - mae: 3.6465 - val_loss: 42.3307 - val_mae: 4.9135\n",
      "Epoch 76/200\n",
      "32/32 [==============================] - 0s 3ms/step - loss: 16.9858 - mae: 3.2182 - val_loss: 40.2829 - val_mae: 4.8430\n",
      "Epoch 77/200\n",
      "32/32 [==============================] - 0s 4ms/step - loss: 17.4337 - mae: 3.2935 - val_loss: 55.8517 - val_mae: 5.6829\n",
      "Epoch 78/200\n",
      "32/32 [==============================] - 0s 4ms/step - loss: 20.9784 - mae: 3.5982 - val_loss: 40.8172 - val_mae: 4.8251\n",
      "Epoch 79/200\n",
      "32/32 [==============================] - 0s 5ms/step - loss: 17.4367 - mae: 3.1961 - val_loss: 43.6129 - val_mae: 4.9433\n",
      "Epoch 80/200\n",
      "32/32 [==============================] - 0s 4ms/step - loss: 17.6486 - mae: 3.2333 - val_loss: 40.6063 - val_mae: 4.8893\n",
      "Epoch 81/200\n",
      "32/32 [==============================] - 0s 5ms/step - loss: 19.6218 - mae: 3.4752 - val_loss: 40.0121 - val_mae: 4.8186\n",
      "Epoch 82/200\n",
      "32/32 [==============================] - 0s 5ms/step - loss: 17.9451 - mae: 3.3013 - val_loss: 39.3292 - val_mae: 4.8236\n",
      "Epoch 83/200\n",
      "32/32 [==============================] - 0s 4ms/step - loss: 17.9488 - mae: 3.2711 - val_loss: 42.2695 - val_mae: 4.9579\n",
      "Epoch 84/200\n",
      "32/32 [==============================] - 0s 4ms/step - loss: 17.3764 - mae: 3.1721 - val_loss: 40.0505 - val_mae: 4.6648\n",
      "Epoch 85/200\n",
      "32/32 [==============================] - 0s 5ms/step - loss: 16.3301 - mae: 3.1018 - val_loss: 36.7356 - val_mae: 4.5802\n",
      "Epoch 86/200\n",
      "32/32 [==============================] - 0s 4ms/step - loss: 19.0618 - mae: 3.3549 - val_loss: 40.1899 - val_mae: 4.7247\n",
      "Epoch 87/200\n",
      "32/32 [==============================] - 0s 5ms/step - loss: 16.5432 - mae: 3.1201 - val_loss: 40.9091 - val_mae: 4.8687\n",
      "Epoch 88/200\n",
      "32/32 [==============================] - 0s 4ms/step - loss: 15.1155 - mae: 3.0067 - val_loss: 41.7331 - val_mae: 4.7971\n",
      "Epoch 89/200\n",
      "32/32 [==============================] - 0s 4ms/step - loss: 16.2977 - mae: 3.0157 - val_loss: 41.7352 - val_mae: 5.0027\n",
      "Epoch 90/200\n",
      "32/32 [==============================] - 0s 5ms/step - loss: 17.0408 - mae: 3.1497 - val_loss: 41.6241 - val_mae: 4.7911\n",
      "Epoch 91/200\n",
      "32/32 [==============================] - 0s 4ms/step - loss: 16.0047 - mae: 3.0922 - val_loss: 39.8010 - val_mae: 4.8040\n",
      "Epoch 92/200\n",
      "32/32 [==============================] - 0s 5ms/step - loss: 15.8454 - mae: 3.0045 - val_loss: 43.2178 - val_mae: 4.8793\n",
      "Epoch 93/200\n",
      "32/32 [==============================] - 0s 4ms/step - loss: 17.8548 - mae: 3.2164 - val_loss: 40.8520 - val_mae: 4.8603\n",
      "Epoch 94/200\n",
      "32/32 [==============================] - 0s 4ms/step - loss: 14.9734 - mae: 3.0056 - val_loss: 40.8670 - val_mae: 4.9223\n",
      "Epoch 95/200\n",
      "32/32 [==============================] - 0s 4ms/step - loss: 15.4243 - mae: 3.0471 - val_loss: 39.1315 - val_mae: 4.7013\n",
      "Epoch 96/200\n",
      "32/32 [==============================] - 0s 5ms/step - loss: 16.9674 - mae: 3.1216 - val_loss: 56.2207 - val_mae: 5.7865\n",
      "Epoch 97/200\n",
      "32/32 [==============================] - 0s 4ms/step - loss: 17.7771 - mae: 3.1609 - val_loss: 41.6446 - val_mae: 4.9977\n",
      "Epoch 98/200\n",
      "32/32 [==============================] - 0s 5ms/step - loss: 17.5105 - mae: 3.2207 - val_loss: 39.0123 - val_mae: 4.7172\n",
      "Epoch 99/200\n",
      "32/32 [==============================] - 0s 4ms/step - loss: 18.3882 - mae: 3.2078 - val_loss: 36.4406 - val_mae: 4.5948\n",
      "Epoch 100/200\n",
      "32/32 [==============================] - 0s 4ms/step - loss: 15.3295 - mae: 2.9981 - val_loss: 41.1498 - val_mae: 4.9703\n",
      "Epoch 101/200\n",
      "32/32 [==============================] - 0s 5ms/step - loss: 13.7758 - mae: 2.8882 - val_loss: 46.9764 - val_mae: 5.1942\n",
      "Epoch 102/200\n",
      "32/32 [==============================] - 0s 5ms/step - loss: 17.9512 - mae: 3.1921 - val_loss: 36.6677 - val_mae: 4.5920\n",
      "Epoch 103/200\n",
      "32/32 [==============================] - 0s 5ms/step - loss: 15.9061 - mae: 3.0049 - val_loss: 39.5829 - val_mae: 4.7524\n",
      "Epoch 104/200\n",
      "32/32 [==============================] - 0s 3ms/step - loss: 16.2191 - mae: 3.0655 - val_loss: 37.1892 - val_mae: 4.6762\n",
      "Epoch 105/200\n",
      "32/32 [==============================] - 0s 4ms/step - loss: 14.9709 - mae: 2.9518 - val_loss: 42.0173 - val_mae: 5.0873\n",
      "Epoch 106/200\n",
      "32/32 [==============================] - 0s 4ms/step - loss: 18.8563 - mae: 3.2580 - val_loss: 45.6152 - val_mae: 5.1528\n",
      "Epoch 107/200\n",
      "32/32 [==============================] - 0s 5ms/step - loss: 15.6272 - mae: 3.1169 - val_loss: 37.4002 - val_mae: 4.6508\n",
      "Epoch 108/200\n",
      "32/32 [==============================] - 0s 5ms/step - loss: 15.5709 - mae: 2.9906 - val_loss: 37.0246 - val_mae: 4.6519\n",
      "Epoch 109/200\n",
      "32/32 [==============================] - 0s 4ms/step - loss: 16.2412 - mae: 3.1297 - val_loss: 40.7864 - val_mae: 4.7272\n",
      "Epoch 110/200\n",
      "32/32 [==============================] - 0s 5ms/step - loss: 15.8911 - mae: 2.9723 - val_loss: 54.4997 - val_mae: 5.7695\n",
      "Epoch 111/200\n",
      "32/32 [==============================] - 0s 4ms/step - loss: 16.9638 - mae: 3.2499 - val_loss: 38.2884 - val_mae: 4.6075\n",
      "Epoch 112/200\n",
      "32/32 [==============================] - 0s 4ms/step - loss: 15.2798 - mae: 2.9688 - val_loss: 47.6145 - val_mae: 5.3871\n",
      "Epoch 113/200\n",
      "32/32 [==============================] - 0s 3ms/step - loss: 16.4854 - mae: 3.1503 - val_loss: 37.2595 - val_mae: 4.5781\n",
      "Epoch 114/200\n",
      "32/32 [==============================] - 0s 5ms/step - loss: 15.4233 - mae: 2.8875 - val_loss: 36.3348 - val_mae: 4.5170\n",
      "Epoch 115/200\n",
      "32/32 [==============================] - 0s 6ms/step - loss: 15.0050 - mae: 3.0033 - val_loss: 41.8775 - val_mae: 4.9780\n",
      "Epoch 116/200\n",
      "32/32 [==============================] - 0s 4ms/step - loss: 15.2961 - mae: 3.0146 - val_loss: 38.8605 - val_mae: 4.6207\n",
      "Epoch 117/200\n",
      "32/32 [==============================] - 0s 4ms/step - loss: 15.3672 - mae: 3.0569 - val_loss: 39.2098 - val_mae: 4.7155\n",
      "Epoch 118/200\n",
      "32/32 [==============================] - 0s 4ms/step - loss: 15.1428 - mae: 3.0069 - val_loss: 37.0222 - val_mae: 4.5233\n",
      "Epoch 119/200\n",
      "32/32 [==============================] - 0s 4ms/step - loss: 13.5686 - mae: 2.8099 - val_loss: 36.9018 - val_mae: 4.6551\n",
      "Epoch 120/200\n",
      "32/32 [==============================] - 0s 4ms/step - loss: 13.1577 - mae: 2.7543 - val_loss: 34.7944 - val_mae: 4.4241\n",
      "Epoch 121/200\n",
      "32/32 [==============================] - 0s 5ms/step - loss: 12.2908 - mae: 2.6446 - val_loss: 37.5629 - val_mae: 4.7149\n",
      "Epoch 122/200\n",
      "32/32 [==============================] - 0s 4ms/step - loss: 14.3928 - mae: 2.8929 - val_loss: 35.8957 - val_mae: 4.5190\n"
     ]
    },
    {
     "name": "stdout",
     "output_type": "stream",
     "text": [
      "Epoch 123/200\n",
      "32/32 [==============================] - 0s 4ms/step - loss: 13.7804 - mae: 2.8372 - val_loss: 41.6012 - val_mae: 4.9829\n",
      "Epoch 124/200\n",
      "32/32 [==============================] - 0s 4ms/step - loss: 12.9011 - mae: 2.7896 - val_loss: 42.2965 - val_mae: 4.9079\n",
      "Epoch 125/200\n",
      "32/32 [==============================] - 0s 4ms/step - loss: 13.4588 - mae: 2.7571 - val_loss: 42.4078 - val_mae: 4.9862\n",
      "Epoch 126/200\n",
      "32/32 [==============================] - 0s 4ms/step - loss: 14.7797 - mae: 2.8787 - val_loss: 34.0828 - val_mae: 4.3939\n",
      "Epoch 127/200\n",
      "32/32 [==============================] - 0s 4ms/step - loss: 12.0529 - mae: 2.7400 - val_loss: 39.4552 - val_mae: 4.7700\n",
      "Epoch 128/200\n",
      "32/32 [==============================] - 0s 4ms/step - loss: 14.4909 - mae: 2.9127 - val_loss: 41.0514 - val_mae: 4.7799\n",
      "Epoch 129/200\n",
      "32/32 [==============================] - 0s 4ms/step - loss: 15.0357 - mae: 2.8655 - val_loss: 39.7635 - val_mae: 5.0524\n",
      "Epoch 130/200\n",
      "32/32 [==============================] - 0s 4ms/step - loss: 13.4293 - mae: 2.8537 - val_loss: 36.3898 - val_mae: 4.6354\n",
      "Epoch 131/200\n",
      "32/32 [==============================] - 0s 5ms/step - loss: 11.5026 - mae: 2.6213 - val_loss: 38.7140 - val_mae: 4.9352\n",
      "Epoch 132/200\n",
      "32/32 [==============================] - 0s 4ms/step - loss: 14.1855 - mae: 2.8680 - val_loss: 39.3582 - val_mae: 4.7819\n",
      "Epoch 133/200\n",
      "32/32 [==============================] - 0s 4ms/step - loss: 13.3876 - mae: 2.7800 - val_loss: 43.4268 - val_mae: 4.9559\n",
      "Epoch 134/200\n",
      "32/32 [==============================] - 0s 4ms/step - loss: 14.6196 - mae: 2.8985 - val_loss: 40.9114 - val_mae: 4.8789\n",
      "Epoch 135/200\n",
      "32/32 [==============================] - 0s 5ms/step - loss: 14.6612 - mae: 3.0682 - val_loss: 35.4549 - val_mae: 4.5369\n",
      "Epoch 136/200\n",
      "32/32 [==============================] - 0s 4ms/step - loss: 12.6124 - mae: 2.6870 - val_loss: 38.1734 - val_mae: 4.5955\n",
      "Epoch 137/200\n",
      "32/32 [==============================] - 0s 4ms/step - loss: 13.4955 - mae: 2.8542 - val_loss: 36.0741 - val_mae: 4.4464\n",
      "Epoch 138/200\n",
      "32/32 [==============================] - 0s 5ms/step - loss: 13.1859 - mae: 2.8147 - val_loss: 34.2255 - val_mae: 4.5501\n",
      "Epoch 139/200\n",
      "32/32 [==============================] - 0s 5ms/step - loss: 14.0028 - mae: 2.8232 - val_loss: 39.1034 - val_mae: 4.7792\n",
      "Epoch 140/200\n",
      "32/32 [==============================] - 0s 5ms/step - loss: 12.8897 - mae: 2.6705 - val_loss: 35.3264 - val_mae: 4.4485\n",
      "Epoch 141/200\n",
      "32/32 [==============================] - 0s 4ms/step - loss: 12.8835 - mae: 2.7172 - val_loss: 33.4112 - val_mae: 4.3373\n",
      "Epoch 142/200\n",
      "32/32 [==============================] - 0s 4ms/step - loss: 12.0255 - mae: 2.5475 - val_loss: 38.8526 - val_mae: 4.8088\n",
      "Epoch 143/200\n",
      "32/32 [==============================] - 0s 4ms/step - loss: 11.1211 - mae: 2.5257 - val_loss: 35.3441 - val_mae: 4.4429\n",
      "Epoch 144/200\n",
      "32/32 [==============================] - 0s 5ms/step - loss: 12.0818 - mae: 2.5468 - val_loss: 36.0310 - val_mae: 4.6551\n",
      "Epoch 145/200\n",
      "32/32 [==============================] - 0s 4ms/step - loss: 13.4686 - mae: 2.7759 - val_loss: 35.3651 - val_mae: 4.4603\n",
      "Epoch 146/200\n",
      "32/32 [==============================] - 0s 3ms/step - loss: 12.7734 - mae: 2.5966 - val_loss: 37.7805 - val_mae: 4.6725\n",
      "Epoch 147/200\n",
      "32/32 [==============================] - 0s 4ms/step - loss: 13.4705 - mae: 2.7565 - val_loss: 35.0894 - val_mae: 4.4238\n",
      "Epoch 148/200\n",
      "32/32 [==============================] - 0s 4ms/step - loss: 14.3258 - mae: 2.9126 - val_loss: 40.3716 - val_mae: 5.0020\n",
      "Epoch 149/200\n",
      "32/32 [==============================] - 0s 4ms/step - loss: 14.2988 - mae: 2.9793 - val_loss: 36.5406 - val_mae: 4.4429\n",
      "Epoch 150/200\n",
      "32/32 [==============================] - 0s 4ms/step - loss: 16.7332 - mae: 3.1265 - val_loss: 42.8274 - val_mae: 4.8568\n",
      "Epoch 151/200\n",
      "32/32 [==============================] - 0s 3ms/step - loss: 13.3783 - mae: 2.7931 - val_loss: 40.2468 - val_mae: 4.7502\n",
      "Epoch 152/200\n",
      "32/32 [==============================] - 0s 3ms/step - loss: 13.0967 - mae: 2.6492 - val_loss: 38.2935 - val_mae: 4.6578\n",
      "Epoch 153/200\n",
      "32/32 [==============================] - 0s 5ms/step - loss: 10.5294 - mae: 2.4457 - val_loss: 44.3527 - val_mae: 4.9530\n",
      "Epoch 154/200\n",
      "32/32 [==============================] - 0s 4ms/step - loss: 13.6906 - mae: 2.8299 - val_loss: 45.7921 - val_mae: 5.2392\n",
      "Epoch 155/200\n",
      "32/32 [==============================] - 0s 4ms/step - loss: 12.5968 - mae: 2.7644 - val_loss: 38.6870 - val_mae: 4.8540\n",
      "Epoch 156/200\n",
      "32/32 [==============================] - 0s 4ms/step - loss: 12.6335 - mae: 2.6701 - val_loss: 34.1335 - val_mae: 4.4046\n",
      "Epoch 157/200\n",
      "32/32 [==============================] - 0s 4ms/step - loss: 9.3727 - mae: 2.3606 - val_loss: 42.1361 - val_mae: 5.0248\n",
      "Epoch 158/200\n",
      "32/32 [==============================] - 0s 5ms/step - loss: 12.5826 - mae: 2.6392 - val_loss: 41.0134 - val_mae: 4.7869\n",
      "Epoch 159/200\n",
      "32/32 [==============================] - 0s 3ms/step - loss: 14.2128 - mae: 2.8812 - val_loss: 35.6988 - val_mae: 4.5292\n",
      "Epoch 160/200\n",
      "32/32 [==============================] - 0s 5ms/step - loss: 11.4956 - mae: 2.5203 - val_loss: 34.4083 - val_mae: 4.3890\n",
      "Epoch 161/200\n",
      "32/32 [==============================] - 0s 4ms/step - loss: 12.3865 - mae: 2.6542 - val_loss: 36.8399 - val_mae: 4.6155\n",
      "Epoch 162/200\n",
      "32/32 [==============================] - 0s 5ms/step - loss: 12.3596 - mae: 2.7654 - val_loss: 35.8698 - val_mae: 4.5009\n",
      "Epoch 163/200\n",
      "32/32 [==============================] - 0s 4ms/step - loss: 11.4354 - mae: 2.5109 - val_loss: 46.9636 - val_mae: 5.2066\n",
      "Epoch 164/200\n",
      "32/32 [==============================] - 0s 4ms/step - loss: 15.1419 - mae: 2.9106 - val_loss: 35.9392 - val_mae: 4.5697\n",
      "Epoch 165/200\n",
      "32/32 [==============================] - 0s 3ms/step - loss: 11.3010 - mae: 2.5311 - val_loss: 39.4177 - val_mae: 4.7896\n",
      "Epoch 166/200\n",
      "32/32 [==============================] - 0s 3ms/step - loss: 11.5031 - mae: 2.4807 - val_loss: 40.8126 - val_mae: 4.7443\n",
      "Epoch 167/200\n",
      "32/32 [==============================] - 0s 5ms/step - loss: 13.6428 - mae: 2.7566 - val_loss: 39.2038 - val_mae: 4.6172\n",
      "Epoch 168/200\n",
      "32/32 [==============================] - 0s 4ms/step - loss: 12.7555 - mae: 2.6748 - val_loss: 37.3325 - val_mae: 4.7044\n",
      "Epoch 169/200\n",
      "32/32 [==============================] - 0s 3ms/step - loss: 14.3074 - mae: 2.8452 - val_loss: 37.6322 - val_mae: 4.6547\n",
      "Epoch 170/200\n",
      "32/32 [==============================] - 0s 4ms/step - loss: 11.1125 - mae: 2.6984 - val_loss: 34.3357 - val_mae: 4.2792\n",
      "Epoch 171/200\n",
      "32/32 [==============================] - 0s 4ms/step - loss: 12.6376 - mae: 2.6070 - val_loss: 33.1985 - val_mae: 4.3949\n",
      "Epoch 172/200\n",
      "32/32 [==============================] - 0s 4ms/step - loss: 13.8091 - mae: 2.7522 - val_loss: 36.4910 - val_mae: 4.6199\n",
      "Epoch 173/200\n",
      "32/32 [==============================] - 0s 5ms/step - loss: 15.1704 - mae: 2.8936 - val_loss: 36.9600 - val_mae: 4.6769\n",
      "Epoch 174/200\n",
      "32/32 [==============================] - 0s 5ms/step - loss: 11.4125 - mae: 2.5458 - val_loss: 36.4039 - val_mae: 4.6253\n",
      "Epoch 175/200\n",
      "32/32 [==============================] - 0s 6ms/step - loss: 10.8935 - mae: 2.4414 - val_loss: 40.8891 - val_mae: 4.7649\n",
      "Epoch 176/200\n",
      "32/32 [==============================] - 0s 5ms/step - loss: 11.9119 - mae: 2.6403 - val_loss: 34.4815 - val_mae: 4.3746\n",
      "Epoch 177/200\n",
      "32/32 [==============================] - 0s 4ms/step - loss: 13.5726 - mae: 2.8593 - val_loss: 36.8560 - val_mae: 4.6418\n",
      "Epoch 178/200\n",
      "32/32 [==============================] - 0s 4ms/step - loss: 12.5402 - mae: 2.6063 - val_loss: 40.4338 - val_mae: 4.8347\n",
      "Epoch 179/200\n",
      "32/32 [==============================] - 0s 4ms/step - loss: 13.0031 - mae: 2.7914 - val_loss: 36.2941 - val_mae: 4.6452\n",
      "Epoch 180/200\n",
      "32/32 [==============================] - 0s 4ms/step - loss: 11.3344 - mae: 2.6668 - val_loss: 35.0687 - val_mae: 4.5861\n",
      "Epoch 181/200\n",
      "32/32 [==============================] - 0s 5ms/step - loss: 10.8399 - mae: 2.4908 - val_loss: 33.2698 - val_mae: 4.3403\n",
      "Epoch 182/200\n",
      "32/32 [==============================] - 0s 4ms/step - loss: 11.1609 - mae: 2.4970 - val_loss: 33.8348 - val_mae: 4.4209\n",
      "Epoch 183/200\n",
      "32/32 [==============================] - 0s 4ms/step - loss: 10.9880 - mae: 2.4386 - val_loss: 35.8056 - val_mae: 4.4014\n"
     ]
    },
    {
     "name": "stdout",
     "output_type": "stream",
     "text": [
      "Epoch 184/200\n",
      "32/32 [==============================] - 0s 4ms/step - loss: 12.3540 - mae: 2.7057 - val_loss: 37.2867 - val_mae: 4.6094\n",
      "Epoch 185/200\n",
      "32/32 [==============================] - 0s 4ms/step - loss: 11.9938 - mae: 2.6482 - val_loss: 39.0410 - val_mae: 4.7364\n",
      "Epoch 186/200\n",
      "32/32 [==============================] - 0s 4ms/step - loss: 13.1716 - mae: 2.7273 - val_loss: 36.1273 - val_mae: 4.5724\n",
      "Epoch 187/200\n",
      "32/32 [==============================] - 0s 4ms/step - loss: 12.2272 - mae: 2.6493 - val_loss: 40.1316 - val_mae: 4.8018\n",
      "Epoch 188/200\n",
      "32/32 [==============================] - 0s 4ms/step - loss: 11.3576 - mae: 2.5350 - val_loss: 45.2976 - val_mae: 5.3455\n",
      "Epoch 189/200\n",
      "32/32 [==============================] - 0s 4ms/step - loss: 12.9949 - mae: 2.8109 - val_loss: 41.4407 - val_mae: 4.7903\n",
      "Epoch 190/200\n",
      "32/32 [==============================] - 0s 4ms/step - loss: 11.6750 - mae: 2.5925 - val_loss: 39.5556 - val_mae: 4.7284\n",
      "Epoch 191/200\n",
      "32/32 [==============================] - 0s 3ms/step - loss: 10.8300 - mae: 2.5300 - val_loss: 32.4966 - val_mae: 4.3220\n",
      "Epoch 192/200\n",
      "32/32 [==============================] - 0s 4ms/step - loss: 10.7421 - mae: 2.5242 - val_loss: 50.9003 - val_mae: 5.3527\n",
      "Epoch 193/200\n",
      "32/32 [==============================] - 0s 3ms/step - loss: 13.5869 - mae: 2.7710 - val_loss: 43.8959 - val_mae: 5.1757\n",
      "Epoch 194/200\n",
      "32/32 [==============================] - 0s 4ms/step - loss: 13.1830 - mae: 2.7376 - val_loss: 31.3304 - val_mae: 4.2124\n",
      "Epoch 195/200\n",
      "32/32 [==============================] - 0s 4ms/step - loss: 10.5885 - mae: 2.4677 - val_loss: 34.1755 - val_mae: 4.3113\n",
      "Epoch 196/200\n",
      "32/32 [==============================] - 0s 4ms/step - loss: 10.2327 - mae: 2.4322 - val_loss: 33.6296 - val_mae: 4.3874\n",
      "Epoch 197/200\n",
      "32/32 [==============================] - 0s 4ms/step - loss: 9.9180 - mae: 2.4096 - val_loss: 40.7190 - val_mae: 5.0676\n",
      "Epoch 198/200\n",
      "32/32 [==============================] - 0s 4ms/step - loss: 11.2730 - mae: 2.5809 - val_loss: 34.4895 - val_mae: 4.3342\n",
      "Epoch 199/200\n",
      "32/32 [==============================] - 0s 5ms/step - loss: 10.0197 - mae: 2.4513 - val_loss: 44.5544 - val_mae: 5.1702\n",
      "Epoch 200/200\n",
      "32/32 [==============================] - 0s 5ms/step - loss: 14.2066 - mae: 2.8212 - val_loss: 35.1596 - val_mae: 4.4620\n"
     ]
    }
   ],
   "source": [
    "history = network.fit(X_train,Y_train,epochs=200,validation_split=0.3, batch_size = 16)"
   ]
  },
  {
   "cell_type": "code",
   "execution_count": 138,
   "metadata": {},
   "outputs": [
    {
     "data": {
      "text/plain": [
       "dict_keys(['loss', 'mae', 'val_loss', 'val_mae'])"
      ]
     },
     "execution_count": 138,
     "metadata": {},
     "output_type": "execute_result"
    }
   ],
   "source": [
    "history.history.keys()"
   ]
  },
  {
   "cell_type": "code",
   "execution_count": 139,
   "metadata": {
    "colab": {
     "base_uri": "https://localhost:8080/"
    },
    "id": "Dke-NeOQtJ7Z",
    "outputId": "c747742c-a35c-489d-910c-49aec973df25"
   },
   "outputs": [
    {
     "name": "stdout",
     "output_type": "stream",
     "text": [
      "10/10 [==============================] - 0s 2ms/step - loss: 34.9352 - mae: 4.0669\n"
     ]
    }
   ],
   "source": [
    "loss,mae=network.evaluate(X_test,Y_test)"
   ]
  },
  {
   "cell_type": "code",
   "execution_count": 140,
   "metadata": {
    "colab": {
     "base_uri": "https://localhost:8080/"
    },
    "id": "CtycpTWetRiZ",
    "outputId": "c3c53923-6128-448f-a0ac-68b30a6eabaa"
   },
   "outputs": [],
   "source": [
    "val_mae = history.history['val_mae']\n",
    "val_loss = history.history['val_loss']"
   ]
  },
  {
   "cell_type": "code",
   "execution_count": 141,
   "metadata": {},
   "outputs": [
    {
     "data": {
      "image/png": "[encoded data removed]",
      "text/plain": [
       "<Figure size 432x288 with 1 Axes>"
      ]
     },
     "metadata": {
      "needs_background": "light"
     },
     "output_type": "display_data"
    }
   ],
   "source": [
    "import matplotlib.pyplot as plt \n",
    "history_dict = history.history\n",
    "loss_values = history_dict['loss']\n",
    "val_loss_values = history_dict['val_loss']\n",
    "epochs = range(200)\n",
    "plt.plot(epochs, loss_values, 'bo', label='Training loss')\n",
    "plt.plot(epochs, val_loss_values, 'b', label='Validation loss')\n",
    "plt.title('Training and validation loss')\n",
    "plt.xlabel('Epochs')\n",
    "plt.ylabel('Loss')\n",
    "plt.legend()\n",
    "plt.show()"
   ]
  },
  {
   "cell_type": "code",
   "execution_count": 142,
   "metadata": {},
   "outputs": [
    {
     "data": {
      "image/png": "[encoded data removed]",
      "text/plain": [
       "<Figure size 432x288 with 1 Axes>"
      ]
     },
     "metadata": {
      "needs_background": "light"
     },
     "output_type": "display_data"
    }
   ],
   "source": [
    "import matplotlib.pyplot as plt \n",
    "acc_values = history_dict['mae']\n",
    "val_acc_values = history_dict['val_mae']\n",
    "plt.plot(epochs, acc_values, 'bo', label='Training mae')\n",
    "plt.plot(epochs, val_acc_values, 'b', label='Validation mae')\n",
    "plt.title('Training and validation accuracy')\n",
    "plt.xlabel('Epochs')\n",
    "plt.ylabel('mae')\n",
    "plt.legend()\n",
    "plt.show()"
   ]
  },
  {
   "cell_type": "code",
   "execution_count": 155,
   "metadata": {
    "id": "AiZJuEX1tXIa"
   },
   "outputs": [],
   "source": [
    "y_pred = network.predict(X_test)"
   ]
  },
  {
   "cell_type": "code",
   "execution_count": null,
   "metadata": {},
   "outputs": [],
   "source": []
  },
  {
   "cell_type": "code",
   "execution_count": 144,
   "metadata": {},
   "outputs": [],
   "source": [
    "# def denorm(x):\n",
    "#     return (x * Y_std) + Y_mean\n",
    "    "
   ]
  },
  {
   "cell_type": "code",
   "execution_count": 154,
   "metadata": {},
   "outputs": [],
   "source": [
    "# y_pred = denorm(y_pred)"
   ]
  },
  {
   "cell_type": "code",
   "execution_count": 146,
   "metadata": {},
   "outputs": [],
   "source": [
    "# y_true = denorm(Y_test)"
   ]
  },
  {
   "cell_type": "code",
   "execution_count": 158,
   "metadata": {},
   "outputs": [],
   "source": [
    "y_pred = y_pred.reshape(y_pred.shape[0])"
   ]
  },
  {
   "cell_type": "code",
   "execution_count": 160,
   "metadata": {},
   "outputs": [
    {
     "data": {
      "text/plain": [
       "array([39.461704 , 43.659    , 27.31807  , 38.78299  , 28.334988 ,\n",
       "       41.062805 , 48.0958   , 38.118275 , 45.86603  , 16.464935 ,\n",
       "       41.751163 , 42.765812 , 48.59738  , 46.03387  , 46.033623 ,\n",
       "       46.099773 , 25.145012 , 24.390303 , 67.94512  , 38.671703 ,\n",
       "       50.729065 , 39.29469  , 28.32026  , 29.41264  , 28.32026  ,\n",
       "       24.375633 , 43.04513  , 53.794514 , 33.200718 , 32.940773 ,\n",
       "       33.200718 , 33.200718 , 42.448    , 44.177094 , 58.403538 ,\n",
       "       62.94382  , 58.911125 , 63.354286 , 68.22667  , 62.94382  ,\n",
       "       71.75001  , 68.88495  , 60.89578  , 59.22755  , 60.89578  ,\n",
       "       60.89578  , 74.62456  , 73.4585   , 68.60991  , 73.457054 ,\n",
       "       79.33464  , 69.61668  , 28.000257 , 33.488354 , 37.301838 ,\n",
       "       12.87238  , 37.923832 , 42.94398  , 26.442196 , 32.044083 ,\n",
       "       37.916775 , 36.23144  , 20.023527 , 39.55769  , 15.356024 ,\n",
       "       28.349285 ,  9.374605 , 15.402636 , 45.993137 , 10.7065115,\n",
       "       38.022472 , 34.224476 , 44.083168 , 25.717735 , 39.995815 ,\n",
       "       14.307086 , 42.04105  , 25.505621 , 33.272263 , 31.396168 ,\n",
       "       20.63517  , 44.62976  , 32.15425  , 43.403255 , 22.531296 ,\n",
       "       35.280384 , 50.38557  , 32.02091  , 19.361052 , 41.94152  ,\n",
       "       49.73931  , 52.15948  , 18.457653 , 30.870413 , 55.553074 ,\n",
       "       22.684544 , 35.501415 , 42.923252 , 52.022137 , 30.173271 ,\n",
       "       43.79156  , 70.11769  , 69.185616 , 22.792992 , 35.69622  ,\n",
       "       13.976667 , 26.835281 , 38.42018  , 36.764812 , 74.27417  ,\n",
       "       55.38295  , 55.33619  , 44.06618  , 39.28346  , 41.526005 ,\n",
       "       56.313248 , 62.17803  , 14.844984 , 15.222482 , 14.840337 ,\n",
       "       16.75824  , 16.114697 , 15.255562 , 16.638372 , 26.3458   ,\n",
       "       26.627342 , 26.360497 , 24.959457 , 21.312183 , 39.454464 ,\n",
       "       39.433712 , 38.080006 , 27.161224 , 31.849583 , 41.62581  ,\n",
       "       46.713703 , 37.931885 , 53.05093  , 48.495316 , 51.91274  ,\n",
       "       56.111984 , 42.191334 , 51.27957  , 51.27957  , 51.27957  ,\n",
       "       35.5413   , 40.007275 , 57.753677 , 58.718994 , 52.227528 ,\n",
       "       37.350307 , 35.46946  , 40.418198 , 59.998367 , 59.62663  ,\n",
       "       56.343597 , 45.07916  , 64.2882   , 37.331593 , 62.84185  ,\n",
       "       54.58427  , 38.9803   , 26.49451  , 11.074973 , 42.96932  ,\n",
       "       68.73573  , 46.283504 , 45.694527 , 54.45785  , 30.528385 ,\n",
       "       15.756425 ,  8.110598 , 25.742983 , 13.203155 , 36.62938  ,\n",
       "       24.18018  , 10.58303  , 39.041645 ,  9.452174 , 19.690447 ,\n",
       "       19.200682 , 24.474277 , 21.460644 ,  8.430336 , 36.40099  ,\n",
       "        6.355631 , 30.17922  , 40.216934 , 23.685051 , 26.193838 ,\n",
       "       18.171167 , 24.90299  , 30.70311  , 36.48451  ,  8.730031 ,\n",
       "       16.300968 , 10.70626  , 18.742764 , 18.87931  , 23.850805 ,\n",
       "       17.184614 , 27.47086  , 36.980694 , 39.84138  , 19.101828 ,\n",
       "       44.699566 ,  8.999733 ,  7.290945 , 24.016838 ,  9.56005  ,\n",
       "        8.302783 , 12.19664  , 28.986912 , 16.062336 , 21.94146  ,\n",
       "       20.710869 , 18.967918 , 39.36046  ,  6.833298 ,  6.885951 ,\n",
       "       42.895176 , 16.20702  , 19.593637 , 14.521005 , 22.890244 ,\n",
       "       44.69367  , 75.91698  , 20.061466 , 29.239975 , 39.02017  ,\n",
       "       21.586243 , 27.894766 , 35.054188 , 37.145336 , 15.621709 ,\n",
       "       27.532234 , 19.710943 , 15.455794 , 24.58968  , 39.99752  ,\n",
       "       65.41774  , 55.921352 , 24.342424 , 12.499971 , 35.777714 ,\n",
       "       37.589214 , 37.743126 , 48.787014 , 60.10952  , 34.373108 ,\n",
       "       25.115238 , 38.65384  , 30.539936 , 29.500206 , 35.99355  ,\n",
       "       36.852345 , 15.7046795, 35.561245 , 64.05243  , 32.640827 ,\n",
       "       36.671124 , 41.45216  , 41.50822  , 29.124441 , 39.036324 ,\n",
       "       39.065365 , 29.031338 , 25.296377 , 29.37338  , 32.0478   ,\n",
       "       36.89102  , 36.880184 , 24.60186  , 11.916162 , 21.58906  ,\n",
       "       48.01955  , 14.204704 , 38.266575 , 22.3325   , 33.601032 ,\n",
       "       30.255081 , 30.48733  , 27.823275 , 29.04415  , 29.39838  ,\n",
       "       52.28471  , 28.971401 , 32.05224  , 37.170105 , 36.698776 ,\n",
       "       13.7473   , 11.771682 , 23.369175 , 11.784363 , 21.516144 ,\n",
       "       39.857864 , 37.588554 , 26.04964  , 36.871334 , 46.250805 ,\n",
       "       15.909546 , 50.005157 , 32.46661  , 31.381477 , 41.248512 ,\n",
       "       28.967875 , 39.93111  , 38.990116 , 33.477127 ], dtype=float32)"
      ]
     },
     "execution_count": 160,
     "metadata": {},
     "output_type": "execute_result"
    }
   ],
   "source": [
    "y_pred"
   ]
  },
  {
   "cell_type": "code",
   "execution_count": 159,
   "metadata": {},
   "outputs": [
    {
     "data": {
      "text/plain": [
       "array([40.27, 41.05, 45.85, 38.07, 47.81, 39.36, 56.14, 36.25, 41.54,\n",
       "       15.05, 40.76, 46.93, 41.93, 50.95, 54.38, 55.06, 30.28, 40.86,\n",
       "       71.99, 36.3 , 40.2 , 33.4 , 35.3 , 24.4 , 35.3 , 24.1 , 46.8 ,\n",
       "       54.9 , 55.9 , 47.1 , 55.9 , 55.9 , 56.1 , 59.09, 60.29, 71.3 ,\n",
       "       74.7 , 66.  , 74.5 , 71.3 , 63.4 , 64.9 , 64.3 , 60.2 , 64.3 ,\n",
       "       64.3 , 77.3 , 54.9 , 71.7 , 70.7 , 56.5 , 73.3 , 24.89, 29.45,\n",
       "       34.56, 12.45, 33.96, 37.34, 24.9 , 34.2 , 39.61, 35.34, 22.72,\n",
       "       40.39, 25.48, 28.63,  7.75, 17.82, 49.97, 19.93, 39.59, 29.22,\n",
       "       42.35, 26.31, 42.55, 13.33, 44.4 , 31.35, 33.73, 32.66, 21.5 ,\n",
       "       48.67, 31.12, 34.74, 23.14, 41.89, 48.72, 33.36, 15.36, 30.85,\n",
       "       42.03, 51.06, 21.78, 42.29, 56.85, 21.91, 36.99, 47.4 , 51.96,\n",
       "       30.45, 47.71, 66.82, 66.95, 27.42, 35.96, 18.02, 38.6 , 30.22,\n",
       "       36.3 , 57.23, 78.8 , 60.28, 39.38, 44.33, 52.3 , 58.52, 69.84,\n",
       "       19.42, 14.94, 21.29, 23.08, 15.52, 11.98, 16.88, 33.09, 31.81,\n",
       "       33.01, 24.66, 26.2 , 46.39, 39.16, 41.41, 24.85, 27.22, 44.64,\n",
       "       53.46, 39.64, 55.02, 49.99, 56.81, 50.94, 41.16, 57.03, 44.42,\n",
       "       51.02, 35.36, 39.3 , 61.07, 54.77, 46.68, 25.51, 34.77, 41.67,\n",
       "       56.34, 61.46, 44.03, 33.49, 59.59, 29.55, 61.86, 62.05, 40.29,\n",
       "       21.97,  9.85, 43.73, 66.78, 48.85, 43.94, 54.32, 24.4 , 14.6 ,\n",
       "        9.62, 27.94, 17.24, 39.44, 24.07, 13.09, 38.7 ,  7.51, 17.58,\n",
       "       21.18, 22.63, 25.73,  8.  , 37.44, 10.73, 32.04, 38.89, 21.95,\n",
       "       24.1 , 21.26, 25.97, 32.33, 36.15,  7.84, 12.25, 11.17, 17.34,\n",
       "       17.54, 24.5 , 15.58, 26.85, 38.21, 43.7 , 19.54, 43.38,  6.9 ,\n",
       "        4.9 , 25.89, 10.39, 11.39, 15.03, 33.  , 17.28, 24.28, 14.14,\n",
       "       22.35, 43.25,  4.83, 10.35, 51.86, 15.87, 30.96, 14.5 , 22.44,\n",
       "       44.09, 71.62, 18.13, 27.34, 32.72,  6.27, 23.22, 27.92, 39.  ,\n",
       "       13.52, 25.18, 17.54, 14.2 , 21.65, 39.49, 61.92, 51.04, 24.  ,\n",
       "       11.47, 34.68, 38.11, 33.8 , 48.4 , 58.78, 29.59, 21.75, 39.09,\n",
       "       24.39, 36.35, 33.42, 39.05, 15.57, 44.61, 65.91, 33.4 , 40.06,\n",
       "       38.46, 37.26, 35.23, 41.54, 37.91, 28.63, 31.03, 23.84, 26.23,\n",
       "       40.68, 33.72, 23.52, 13.2 , 23.79, 46.23, 15.52, 43.57, 26.92,\n",
       "       29.07, 26.97, 30.65, 30.88, 28.63, 31.42, 40.93, 32.96, 26.23,\n",
       "       38.63, 33.72,  8.54, 13.46, 29.73, 13.2 , 23.74, 35.87, 33.76,\n",
       "       16.5 , 39.06, 45.3 , 15.57, 52.83, 33.4 , 37.36, 37.27, 35.23,\n",
       "       39.46, 37.92, 32.4 ])"
      ]
     },
     "execution_count": 159,
     "metadata": {},
     "output_type": "execute_result"
    }
   ],
   "source": [
    "Y_test"
   ]
  },
  {
   "cell_type": "code",
   "execution_count": 148,
   "metadata": {},
   "outputs": [
    {
     "data": {
      "text/plain": [
       "(309,)"
      ]
     },
     "execution_count": 148,
     "metadata": {},
     "output_type": "execute_result"
    }
   ],
   "source": [
    "y_pred.shape"
   ]
  },
  {
   "cell_type": "code",
   "execution_count": 149,
   "metadata": {},
   "outputs": [
    {
     "data": {
      "text/plain": [
       "(309,)"
      ]
     },
     "execution_count": 149,
     "metadata": {},
     "output_type": "execute_result"
    }
   ],
   "source": [
    "y_true.shape"
   ]
  },
  {
   "cell_type": "code",
   "execution_count": 164,
   "metadata": {},
   "outputs": [
    {
     "data": {
      "text/plain": [
       "(0.0, 100.0)"
      ]
     },
     "execution_count": 164,
     "metadata": {},
     "output_type": "execute_result"
    },
    {
     "data": {
      "image/png": "[encoded data removed]",
      "text/plain": [
       "<Figure size 432x288 with 1 Axes>"
      ]
     },
     "metadata": {
      "needs_background": "light"
     },
     "output_type": "display_data"
    }
   ],
   "source": [
    "import numpy as np\n",
    "import matplotlib.pyplot as plt\n",
    "coef = np.polyfit(Y_test,y_pred,1)\n",
    "poly1d_fn = np.poly1d(coef) \n",
    "# poly1d_fn is now a function which takes in x and returns an estimate for y\n",
    "plt.plot(Y_test,y_pred, 'yo', Y_test, poly1d_fn(Y_test), '--k')\n",
    "plt.xlim(0, 100)\n",
    "plt.ylim(0, 100)"
   ]
  }
 ],
 "metadata": {
  "accelerator": "TPU",
  "colab": {
   "collapsed_sections": [],
   "name": "Concrete.ipynb",
   "provenance": [],
   "toc_visible": true
  },
  "kernelspec": {
   "display_name": "Python 3",
   "language": "python",
   "name": "python3"
  },
  "language_info": {
   "codemirror_mode": {
    "name": "ipython",
    "version": 3
   },
   "file_extension": ".py",
   "mimetype": "text/x-python",
   "name": "python",
   "nbconvert_exporter": "python",
   "pygments_lexer": "ipython3",
   "version": "3.9.2"
  }
 },
 "nbformat": 4,
 "nbformat_minor": 1
}
